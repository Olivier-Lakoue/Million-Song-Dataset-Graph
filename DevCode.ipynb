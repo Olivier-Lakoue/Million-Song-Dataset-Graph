{
 "cells": [
  {
   "cell_type": "code",
   "execution_count": 26,
   "metadata": {
    "collapsed": false
   },
   "outputs": [
    {
     "name": "stdout",
     "output_type": "stream",
     "text": [
      "/data/asoto/projectW205\r\n"
     ]
    }
   ],
   "source": [
    "!pwd"
   ]
  },
  {
   "cell_type": "code",
   "execution_count": 2,
   "metadata": {
    "collapsed": true
   },
   "outputs": [],
   "source": [
    "import h5py\n",
    "import sys, os \n",
    "import glob\n",
    "\n",
    "msd_subset_path='./data/MillionSongSubset/data'"
   ]
  },
  {
   "cell_type": "code",
   "execution_count": 153,
   "metadata": {
    "collapsed": true
   },
   "outputs": [],
   "source": [
    "f.close()"
   ]
  },
  {
   "cell_type": "code",
   "execution_count": 24,
   "metadata": {
    "collapsed": false
   },
   "outputs": [
    {
     "data": {
      "text/plain": [
       "'r'"
      ]
     },
     "execution_count": 24,
     "metadata": {},
     "output_type": "execute_result"
    }
   ],
   "source": [
    "f = h5py.File('./data/MillionSongSubset/data/A/A/A/TRAAAMQ128F1460CD3.h5', 'r')\n",
    "f.mode"
   ]
  },
  {
   "cell_type": "code",
   "execution_count": 72,
   "metadata": {
    "collapsed": false
   },
   "outputs": [
    {
     "name": "stdout",
     "output_type": "stream",
     "text": [
      "id1:\tARD0S291187B9B7BF5\n",
      "id2:\t56503d6d-094e-4c28-ae3d-04cc748ade5b\n",
      "id3:\t17970\n",
      "Name:\tRated R\n",
      "Album:\tDa Ghetto Psychic\n",
      "sID:\tSOMJBYD12A6D4F8557\n",
      "track:\tTRAAAMQ128F1460CD3\n",
      "Song:\tKeepin It Real (Skit)\n",
      "Year:\t0\n",
      "Danceability: [ 0.]\n",
      "Dur: [ 114.78159]\n",
      "Energy: [ 0.]\n",
      "Loudness: [-17.302]\n",
      "[ 1.          0.83861876  0.93531307  0.94209789  0.83861876  0.83861876\n",
      "  0.83861876  0.80774348  0.55606549  0.55211023  0.48210997  0.47670089\n",
      "  0.46169854  0.17888524]\n",
      "[ 1.          0.92582869  0.86507944  0.79763649  0.79058162  0.78902429\n",
      "  0.78435166  0.76919696  0.70027481  0.66944053  0.64123832  0.63692041\n",
      "  0.62494448  0.38802118]\n",
      "['breakbeat' 'dirty south rap' 'hip hop' 'electronic' 'trance' 'electro'\n",
      " 'rap' 'soul' 'united states' 'urban' 'southern rap' 'up beat' 'ohio' 'r&b']\n"
     ]
    },
    {
     "data": {
      "text/plain": [
       "array(['ARF93II1187B99F981', 'ART6ONC11C8A421DB9', 'ARC6QZS1187FB4053E',\n",
       "       'ARKP7ZJ1187B992F62', 'ARWUNH81187FB4A3E0', 'ARPOVZZ1187B98F3B7',\n",
       "       'ARNCMYO1187B98ADEC', 'ARO4LK41187FB587A7', 'AR305PX1187FB4BDC3',\n",
       "       'ARYEEE31187B9AD5F2', 'ARH1XKR1187B9AB4C9', 'ARTPA2T1187FB50940',\n",
       "       'AR064OH1187FB384A0', 'ARQCGHK1187B9ACAF1', 'AR4MR2K1187FB4EFEC',\n",
       "       'ARDIP5S1187FB57056', 'ARMOYWY1187B98ACFF', 'AR2B1F61187B99B82B',\n",
       "       'ARVIPZT122ECCBA903', 'AR78C1C1187B98BD58', 'ARL1Y0K1187B9A45CB',\n",
       "       'ARSWYDT1187FB3F09B', 'ARGCT7H1187B9A7A17', 'ARYMAQU1187B99E5D7',\n",
       "       'ARPKI8R1187B99A681', 'AR82YRL1187FB4D915', 'ARS2EDW1187FB45AFE',\n",
       "       'ARGFYF0119B3403441', 'ARZ719X1187B989C0F', 'ARF5P8M1187FB37F83',\n",
       "       'AR0AN4W1187B9B1F49', 'ARIP3H01187B98D80B', 'ARQY01R1187FB3F57E',\n",
       "       'AREQQWZ11F4C845AB4', 'ARMAXEN1187B9B5D49', 'ARPWWWL1187FB4C27D',\n",
       "       'ARXX9GX1187FB5A26C', 'ARVCWKA1187B99C796', 'ARIMHXN11F4C842FF9',\n",
       "       'AR64L1N1187FB475B3', 'ARNV6PV1187B98CD60', 'ARQ00QJ1187B9B8BBB',\n",
       "       'ARB6TPO1187FB3B3F1', 'AROOQKU1187B9B0066', 'ARDUVNB11F4C83FF32',\n",
       "       'ARJ70E01187B9AD6EC', 'ARGXMVH11F4C8450F1', 'ARLXY891187FB58535',\n",
       "       'ARQB5X91187FB56A8C', 'ARCOI5R1187FB59EEE', 'ARI9DDK1187FB4FD68',\n",
       "       'ARP574A1187B9B25A0', 'ARYTVPB1187FB3DA6D', 'ARAT4MO1187FB3E24C',\n",
       "       'AR5VNWX1187FB511C8', 'ARZC8IN1187B99B52C', 'ARTE30J1187B988DEB',\n",
       "       'ARK43DX1187B9977E0', 'ARO3DAC1187B994370', 'ARPPCON1187B99B574',\n",
       "       'ARUF4C31187B9A4AD9', 'AR0GSFY1187B9A5A2E', 'AR4SGJZ1187FB546D7',\n",
       "       'AR2ZOTF1187FB54B50', 'AR46WCX1187FB5A90E', 'AR5FU081187B990A38',\n",
       "       'ARKTT2S1187FB4E20B', 'AR72E9P119B86686C3', 'AR917NS1187FB4507C',\n",
       "       'ARS270F1187FB4421B', 'ARI2PJO1187B9AB564', 'AREASP51187B98A642',\n",
       "       'ARP556F1187B99CD51', 'AROHKQ51187B98D601', 'AROL3P11187B994E00',\n",
       "       'ARZF9EA1187FB39378', 'ARJ97G51187FB4CC44', 'ARSUKYT1187B9B8935',\n",
       "       'ARQDC2J1187B9B3386', 'AR9LWZ21187FB39088', 'ARAPMCU11EBCD75AFD',\n",
       "       'ARP6Z931187B9AF7AC', 'ARQFB7O1187FB500AC', 'AR2TSU61187FB5C4F0',\n",
       "       'ARYPAKF1187B9B1F1F', 'ART6P4F1187B9A9043', 'ARKXHZH11F4C843D12',\n",
       "       'ARAIRUQ1187FB571E5', 'ARIPRNZ1187B9A453D', 'ARIOVWV11F4C843D07',\n",
       "       'ARUO0FM1187B990A4D', 'ARFMOZS1187B99D00E', 'ARWMQDP1187B9AD052',\n",
       "       'ARBT1LG1187B99A9D7', 'ARXJNFW12086C128F9', 'ARRQKZ81187B98EED2',\n",
       "       'ARHLKXN119B8667C48', 'ARH2VA41187B993AF6', 'ARNWOZV1187B99849E',\n",
       "       'ARH30EU1187B9A421E'], \n",
       "      dtype='|S20')"
      ]
     },
     "execution_count": 72,
     "metadata": {},
     "output_type": "execute_result"
    }
   ],
   "source": [
    "# --- Artist Data -----------------------------\n",
    "print 'id1:\\t',f['metadata']['songs']['artist_id'][0]\n",
    "print 'id2:\\t',f['metadata']['songs']['artist_mbid'][0]\n",
    "print 'id3:\\t',f['metadata']['songs']['artist_7digitalid'][0]\n",
    "print 'Name:\\t',f['metadata']['songs']['artist_name'][0]\n",
    "\n",
    "# --- Album -----------------------------\n",
    "print 'Album:\\t', f['metadata']['songs']['release'][0]\n",
    "\n",
    "# --- Song Data -----------------------------\n",
    "print 'sID:\\t', f['metadata']['songs']['song_id'][0]\n",
    "print 'track:\\t', f['analysis']['songs']['track_id'][0]\n",
    "print 'Song:\\t',f['metadata']['songs']['title'][0]\n",
    "print 'Year:\\t', f['musicbrainz']['songs']['year'][0]\n",
    "print 'Danceability:', f['analysis']['songs']['danceability']\n",
    "print 'Dur:', f['analysis']['songs']['duration']\n",
    "print 'Energy:', f['analysis']['songs']['energy']\n",
    "print 'Loudness:', f['analysis']['songs']['loudness']\n",
    "\n",
    "# --- Terms\n",
    "print np.array(f['metadata']['artist_terms_freq'])\n",
    "print np.array(f['metadata']['artist_terms_weight'])\n",
    "print np.array(f['metadata']['artist_terms'])\n",
    "\n",
    "np.array(f['metadata']['similar_artists'])"
   ]
  },
  {
   "cell_type": "code",
   "execution_count": 64,
   "metadata": {
    "collapsed": false
   },
   "outputs": [
    {
     "name": "stdout",
     "output_type": "stream",
     "text": [
      "[ 1.          0.83861876  0.93531307  0.94209789  0.83861876  0.83861876\n",
      "  0.83861876  0.80774348  0.55606549  0.55211023  0.48210997  0.47670089\n",
      "  0.46169854  0.17888524]\n",
      "[ 1.          0.92582869  0.86507944  0.79763649  0.79058162  0.78902429\n",
      "  0.78435166  0.76919696  0.70027481  0.66944053  0.64123832  0.63692041\n",
      "  0.62494448  0.38802118]\n",
      "['breakbeat' 'dirty south rap' 'hip hop' 'electronic' 'trance' 'electro'\n",
      " 'rap' 'soul' 'united states' 'urban' 'southern rap' 'up beat' 'ohio' 'r&b']\n"
     ]
    }
   ],
   "source": [
    "# --- Terms\n",
    "print np.array(f['metadata']['artist_terms_freq'])\n",
    "print np.array(f['metadata']['artist_terms_weight'])\n",
    "print np.array(f['metadata']['artist_terms'])"
   ]
  },
  {
   "cell_type": "code",
   "execution_count": 25,
   "metadata": {
    "collapsed": false
   },
   "outputs": [
    {
     "name": "stdout",
     "output_type": "stream",
     "text": [
      "/\n",
      "[u'analysis', u'metadata', u'musicbrainz']\n",
      "\n",
      "\n",
      "<HDF5 group \"/analysis\" (16 members)>\n",
      "[u'bars_confidence', u'bars_start', u'beats_confidence', u'beats_start', u'sections_confidence', u'sections_start', u'segments_confidence', u'segments_loudness_max', u'segments_loudness_max_time', u'segments_loudness_start', u'segments_pitches', u'segments_start', u'segments_timbre', u'songs', u'tatums_confidence', u'tatums_start']\n",
      "\n",
      "\n",
      "<HDF5 group \"/metadata\" (5 members)>\n",
      "[u'artist_terms', u'artist_terms_freq', u'artist_terms_weight', u'similar_artists', u'songs']\n",
      "\n",
      "\n",
      "<HDF5 group \"/musicbrainz\" (3 members)>\n",
      "[u'artist_mbtags', u'artist_mbtags_count', u'songs']\n"
     ]
    }
   ],
   "source": [
    "print f.name\n",
    "print f.keys()\n",
    "for n in f.keys():\n",
    "    print '\\n'\n",
    "    print f[n]\n",
    "    print f[n].keys()"
   ]
  },
  {
   "cell_type": "code",
   "execution_count": 67,
   "metadata": {
    "collapsed": false
   },
   "outputs": [
    {
     "data": {
      "text/plain": [
       "array(['ARF93II1187B99F981', 'ART6ONC11C8A421DB9', 'ARC6QZS1187FB4053E',\n",
       "       'ARKP7ZJ1187B992F62', 'ARWUNH81187FB4A3E0', 'ARPOVZZ1187B98F3B7',\n",
       "       'ARNCMYO1187B98ADEC', 'ARO4LK41187FB587A7', 'AR305PX1187FB4BDC3',\n",
       "       'ARYEEE31187B9AD5F2', 'ARH1XKR1187B9AB4C9', 'ARTPA2T1187FB50940',\n",
       "       'AR064OH1187FB384A0', 'ARQCGHK1187B9ACAF1', 'AR4MR2K1187FB4EFEC',\n",
       "       'ARDIP5S1187FB57056', 'ARMOYWY1187B98ACFF', 'AR2B1F61187B99B82B',\n",
       "       'ARVIPZT122ECCBA903', 'AR78C1C1187B98BD58', 'ARL1Y0K1187B9A45CB',\n",
       "       'ARSWYDT1187FB3F09B', 'ARGCT7H1187B9A7A17', 'ARYMAQU1187B99E5D7',\n",
       "       'ARPKI8R1187B99A681', 'AR82YRL1187FB4D915', 'ARS2EDW1187FB45AFE',\n",
       "       'ARGFYF0119B3403441', 'ARZ719X1187B989C0F', 'ARF5P8M1187FB37F83',\n",
       "       'AR0AN4W1187B9B1F49', 'ARIP3H01187B98D80B', 'ARQY01R1187FB3F57E',\n",
       "       'AREQQWZ11F4C845AB4', 'ARMAXEN1187B9B5D49', 'ARPWWWL1187FB4C27D',\n",
       "       'ARXX9GX1187FB5A26C', 'ARVCWKA1187B99C796', 'ARIMHXN11F4C842FF9',\n",
       "       'AR64L1N1187FB475B3', 'ARNV6PV1187B98CD60', 'ARQ00QJ1187B9B8BBB',\n",
       "       'ARB6TPO1187FB3B3F1', 'AROOQKU1187B9B0066', 'ARDUVNB11F4C83FF32',\n",
       "       'ARJ70E01187B9AD6EC', 'ARGXMVH11F4C8450F1', 'ARLXY891187FB58535',\n",
       "       'ARQB5X91187FB56A8C', 'ARCOI5R1187FB59EEE', 'ARI9DDK1187FB4FD68',\n",
       "       'ARP574A1187B9B25A0', 'ARYTVPB1187FB3DA6D', 'ARAT4MO1187FB3E24C',\n",
       "       'AR5VNWX1187FB511C8', 'ARZC8IN1187B99B52C', 'ARTE30J1187B988DEB',\n",
       "       'ARK43DX1187B9977E0', 'ARO3DAC1187B994370', 'ARPPCON1187B99B574',\n",
       "       'ARUF4C31187B9A4AD9', 'AR0GSFY1187B9A5A2E', 'AR4SGJZ1187FB546D7',\n",
       "       'AR2ZOTF1187FB54B50', 'AR46WCX1187FB5A90E', 'AR5FU081187B990A38',\n",
       "       'ARKTT2S1187FB4E20B', 'AR72E9P119B86686C3', 'AR917NS1187FB4507C',\n",
       "       'ARS270F1187FB4421B', 'ARI2PJO1187B9AB564', 'AREASP51187B98A642',\n",
       "       'ARP556F1187B99CD51', 'AROHKQ51187B98D601', 'AROL3P11187B994E00',\n",
       "       'ARZF9EA1187FB39378', 'ARJ97G51187FB4CC44', 'ARSUKYT1187B9B8935',\n",
       "       'ARQDC2J1187B9B3386', 'AR9LWZ21187FB39088', 'ARAPMCU11EBCD75AFD',\n",
       "       'ARP6Z931187B9AF7AC', 'ARQFB7O1187FB500AC', 'AR2TSU61187FB5C4F0',\n",
       "       'ARYPAKF1187B9B1F1F', 'ART6P4F1187B9A9043', 'ARKXHZH11F4C843D12',\n",
       "       'ARAIRUQ1187FB571E5', 'ARIPRNZ1187B9A453D', 'ARIOVWV11F4C843D07',\n",
       "       'ARUO0FM1187B990A4D', 'ARFMOZS1187B99D00E', 'ARWMQDP1187B9AD052',\n",
       "       'ARBT1LG1187B99A9D7', 'ARXJNFW12086C128F9', 'ARRQKZ81187B98EED2',\n",
       "       'ARHLKXN119B8667C48', 'ARH2VA41187B993AF6', 'ARNWOZV1187B99849E',\n",
       "       'ARH30EU1187B9A421E'], \n",
       "      dtype='|S20')"
      ]
     },
     "execution_count": 67,
     "metadata": {},
     "output_type": "execute_result"
    }
   ],
   "source": [
    "np.array(f['metadata']['similar_artists'])"
   ]
  },
  {
   "cell_type": "code",
   "execution_count": 121,
   "metadata": {
    "collapsed": false
   },
   "outputs": [
    {
     "data": {
      "text/plain": [
       "[(u'artist_terms', <HDF5 dataset \"artist_terms\": shape (37,), type \"|S256\">),\n",
       " (u'artist_terms_freq',\n",
       "  <HDF5 dataset \"artist_terms_freq\": shape (37,), type \"<f8\">),\n",
       " (u'artist_terms_weight',\n",
       "  <HDF5 dataset \"artist_terms_weight\": shape (37,), type \"<f8\">),\n",
       " (u'similar_artists',\n",
       "  <HDF5 dataset \"similar_artists\": shape (100,), type \"|S20\">),\n",
       " (u'songs', <HDF5 dataset \"songs\": shape (1,), type \"|V5320\">)]"
      ]
     },
     "execution_count": 121,
     "metadata": {},
     "output_type": "execute_result"
    }
   ],
   "source": [
    "f['metadata'].items()"
   ]
  },
  {
   "cell_type": "code",
   "execution_count": 124,
   "metadata": {
    "collapsed": false
   },
   "outputs": [
    {
     "data": {
      "text/plain": [
       "[(u'CLASS', 'EARRAY'),\n",
       " (u'VERSION', '1.0'),\n",
       " (u'TITLE', 'array of terms (Echo Nest tags) for an artist'),\n",
       " (u'EXTDIM', 1907)]"
      ]
     },
     "execution_count": 124,
     "metadata": {},
     "output_type": "execute_result"
    }
   ],
   "source": [
    "f['metadata']['artist_terms'].attrs.items()"
   ]
  },
  {
   "cell_type": "code",
   "execution_count": 125,
   "metadata": {
    "collapsed": false
   },
   "outputs": [
    {
     "data": {
      "text/plain": [
       "[(u'CLASS', 'EARRAY'),\n",
       " (u'VERSION', '1.0'),\n",
       " (u'TITLE', 'array of term (Echo Nest tags) weights for an artist'),\n",
       " (u'EXTDIM', 1909)]"
      ]
     },
     "execution_count": 125,
     "metadata": {},
     "output_type": "execute_result"
    }
   ],
   "source": [
    "f['metadata']['artist_terms_weight'].attrs.items()"
   ]
  },
  {
   "cell_type": "code",
   "execution_count": 52,
   "metadata": {
    "collapsed": false
   },
   "outputs": [
    {
     "data": {
      "text/plain": [
       "[(u'CLASS', 'EARRAY'),\n",
       " (u'VERSION', '1.0'),\n",
       " (u'TITLE', 'array of term (Echo Nest tags) frequencies for an artist'),\n",
       " (u'EXTDIM', 1910)]"
      ]
     },
     "execution_count": 52,
     "metadata": {},
     "output_type": "execute_result"
    }
   ],
   "source": [
    "import numpy as np\n",
    "np.sum(np.array(f['metadata']['artist_terms_freq']))\n",
    "#np.sum(np.array(range(5)))"
   ]
  },
  {
   "cell_type": "code",
   "execution_count": 61,
   "metadata": {
    "collapsed": false
   },
   "outputs": [
    {
     "name": "stdout",
     "output_type": "stream",
     "text": [
      "10.259\t9.632\tbreakbeat\n",
      "8.604\t8.917\tdirty south rap\n",
      "9.596\t8.332\thip hop\n",
      "9.665\t7.682\telectronic\n",
      "8.604\t7.615\ttrance\n",
      "8.604\t7.600\telectro\n",
      "8.604\t7.555\trap\n",
      "8.287\t7.409\tsoul\n",
      "5.705\t6.745\tunited states\n",
      "5.664\t6.448\turban\n",
      "4.946\t6.176\tsouthern rap\n",
      "4.891\t6.135\tup beat\n",
      "4.737\t6.019\tohio\n",
      "1.835\t3.737\tr&b\n",
      "[9.7471998562322835, 10.382538868482971]\n"
     ]
    }
   ],
   "source": [
    "sum=[np.sum(np.array(f['metadata']['artist_terms_freq'])),\n",
    "    np.sum(np.array(f['metadata']['artist_terms_weight']))]\n",
    "for i in range(len(f['metadata']['artist_terms_weight'])):\n",
    "    #sum[0] += f['metadata']['artist_terms_freq'][i]\n",
    "    #sum[1] += f['metadata']['artist_terms_weight'][i]\n",
    "    print '%.3f\\t%.3f\\t%s'%(100*f['metadata']['artist_terms_freq'][i]/sum[0], \n",
    "                            100*f['metadata']['artist_terms_weight'][i]/sum[1], f['metadata']['artist_terms'][i])\n",
    "    \n",
    "print sum"
   ]
  },
  {
   "cell_type": "code",
   "execution_count": 54,
   "metadata": {
    "collapsed": false
   },
   "outputs": [
    {
     "data": {
      "text/plain": [
       "[9.7471998562322835, 10.382538868482971]"
      ]
     },
     "execution_count": 54,
     "metadata": {},
     "output_type": "execute_result"
    }
   ],
   "source": [
    "sum"
   ]
  },
  {
   "cell_type": "code",
   "execution_count": 62,
   "metadata": {
    "collapsed": false
   },
   "outputs": [
    {
     "data": {
      "text/plain": [
       "array([ 0.10259357,  0.08603689,  0.0959571 ,  0.09665318,  0.08603689,\n",
       "        0.08603689,  0.08603689,  0.08286928,  0.05704874,  0.05664296,\n",
       "        0.04946138,  0.04890644,  0.0473673 ,  0.01835247])"
      ]
     },
     "execution_count": 62,
     "metadata": {},
     "output_type": "execute_result"
    }
   ],
   "source": [
    "np.array(f['metadata']['artist_terms_freq'])/sum[0]"
   ]
  },
  {
   "cell_type": "code",
   "execution_count": 126,
   "metadata": {
    "collapsed": false
   },
   "outputs": [
    {
     "data": {
      "text/plain": [
       "<HDF5 dataset \"artist_terms_weight\": shape (37,), type \"<f8\">"
      ]
     },
     "execution_count": 126,
     "metadata": {},
     "output_type": "execute_result"
    }
   ],
   "source": [
    "f['metadata']['artist_terms_weight']"
   ]
  },
  {
   "cell_type": "code",
   "execution_count": 37,
   "metadata": {
    "collapsed": false
   },
   "outputs": [
    {
     "data": {
      "text/plain": [
       "[u'bars_confidence',\n",
       " u'bars_start',\n",
       " u'beats_confidence',\n",
       " u'beats_start',\n",
       " u'sections_confidence',\n",
       " u'sections_start',\n",
       " u'segments_confidence',\n",
       " u'segments_loudness_max',\n",
       " u'segments_loudness_max_time',\n",
       " u'segments_loudness_start',\n",
       " u'segments_pitches',\n",
       " u'segments_start',\n",
       " u'segments_timbre',\n",
       " u'songs',\n",
       " u'tatums_confidence',\n",
       " u'tatums_start']"
      ]
     },
     "execution_count": 37,
     "metadata": {},
     "output_type": "execute_result"
    }
   ],
   "source": [
    "f['analysis'].keys()"
   ]
  },
  {
   "cell_type": "code",
   "execution_count": 40,
   "metadata": {
    "collapsed": false
   },
   "outputs": [
    {
     "name": "stdout",
     "output_type": "stream",
     "text": [
      "<HDF5 dataset \"bars_confidence\": shape (217,), type \"<f8\">\n",
      "<HDF5 dataset \"bars_start\": shape (217,), type \"<f8\">\n",
      "<HDF5 dataset \"beats_confidence\": shape (217,), type \"<f8\">\n",
      "<HDF5 dataset \"beats_start\": shape (217,), type \"<f8\">\n",
      "<HDF5 dataset \"sections_confidence\": shape (4,), type \"<f8\">\n",
      "<HDF5 dataset \"sections_start\": shape (4,), type \"<f8\">\n",
      "<HDF5 dataset \"segments_confidence\": shape (481,), type \"<f8\">\n",
      "<HDF5 dataset \"segments_loudness_max\": shape (481,), type \"<f8\">\n",
      "<HDF5 dataset \"segments_loudness_max_time\": shape (481,), type \"<f8\">\n",
      "<HDF5 dataset \"segments_loudness_start\": shape (481,), type \"<f8\">\n",
      "<HDF5 dataset \"segments_pitches\": shape (481, 12), type \"<f8\">\n",
      "<HDF5 dataset \"segments_start\": shape (481,), type \"<f8\">\n",
      "<HDF5 dataset \"segments_timbre\": shape (481, 12), type \"<f8\">\n",
      "<HDF5 dataset \"songs\": shape (1,), type \"|V220\">\n",
      "<HDF5 dataset \"tatums_confidence\": shape (434,), type \"<f8\">\n",
      "<HDF5 dataset \"tatums_start\": shape (434,), type \"<f8\">\n"
     ]
    }
   ],
   "source": [
    "for k in f['analysis'].keys():\n",
    "    print f['analysis'][k]"
   ]
  },
  {
   "cell_type": "code",
   "execution_count": 114,
   "metadata": {
    "collapsed": false,
    "scrolled": true
   },
   "outputs": [
    {
     "data": {
      "text/plain": [
       "[(u'CLASS', 'TABLE'),\n",
       " (u'VERSION', '2.6'),\n",
       " (u'TITLE', 'table of Echo Nest analysis for one song'),\n",
       " (u'FIELD_0_NAME', 'analysis_sample_rate'),\n",
       " (u'FIELD_1_NAME', 'audio_md5'),\n",
       " (u'FIELD_2_NAME', 'danceability'),\n",
       " (u'FIELD_3_NAME', 'duration'),\n",
       " (u'FIELD_4_NAME', 'end_of_fade_in'),\n",
       " (u'FIELD_5_NAME', 'energy'),\n",
       " (u'FIELD_6_NAME', 'idx_bars_confidence'),\n",
       " (u'FIELD_7_NAME', 'idx_bars_start'),\n",
       " (u'FIELD_8_NAME', 'idx_beats_confidence'),\n",
       " (u'FIELD_9_NAME', 'idx_beats_start'),\n",
       " (u'FIELD_10_NAME', 'idx_sections_confidence'),\n",
       " (u'FIELD_11_NAME', 'idx_sections_start'),\n",
       " (u'FIELD_12_NAME', 'idx_segments_confidence'),\n",
       " (u'FIELD_13_NAME', 'idx_segments_loudness_max'),\n",
       " (u'FIELD_14_NAME', 'idx_segments_loudness_max_time'),\n",
       " (u'FIELD_15_NAME', 'idx_segments_loudness_start'),\n",
       " (u'FIELD_16_NAME', 'idx_segments_pitches'),\n",
       " (u'FIELD_17_NAME', 'idx_segments_start'),\n",
       " (u'FIELD_18_NAME', 'idx_segments_timbre'),\n",
       " (u'FIELD_19_NAME', 'idx_tatums_confidence'),\n",
       " (u'FIELD_20_NAME', 'idx_tatums_start'),\n",
       " (u'FIELD_21_NAME', 'key'),\n",
       " (u'FIELD_22_NAME', 'key_confidence'),\n",
       " (u'FIELD_23_NAME', 'loudness'),\n",
       " (u'FIELD_24_NAME', 'mode'),\n",
       " (u'FIELD_25_NAME', 'mode_confidence'),\n",
       " (u'FIELD_26_NAME', 'start_of_fade_out'),\n",
       " (u'FIELD_27_NAME', 'tempo'),\n",
       " (u'FIELD_28_NAME', 'time_signature'),\n",
       " (u'FIELD_29_NAME', 'time_signature_confidence'),\n",
       " (u'FIELD_30_NAME', 'track_id'),\n",
       " (u'FIELD_0_FILL', 0),\n",
       " (u'FIELD_1_FILL', ''),\n",
       " (u'FIELD_2_FILL', 0.0),\n",
       " (u'FIELD_3_FILL', 0.0),\n",
       " (u'FIELD_4_FILL', 0.0),\n",
       " (u'FIELD_5_FILL', 0.0),\n",
       " (u'FIELD_6_FILL', 0),\n",
       " (u'FIELD_7_FILL', 0),\n",
       " (u'FIELD_8_FILL', 0),\n",
       " (u'FIELD_9_FILL', 0),\n",
       " (u'FIELD_10_FILL', 0),\n",
       " (u'FIELD_11_FILL', 0),\n",
       " (u'FIELD_12_FILL', 0),\n",
       " (u'FIELD_13_FILL', 0),\n",
       " (u'FIELD_14_FILL', 0),\n",
       " (u'FIELD_15_FILL', 0),\n",
       " (u'FIELD_16_FILL', 0),\n",
       " (u'FIELD_17_FILL', 0),\n",
       " (u'FIELD_18_FILL', 0),\n",
       " (u'FIELD_19_FILL', 0),\n",
       " (u'FIELD_20_FILL', 0),\n",
       " (u'FIELD_21_FILL', 0),\n",
       " (u'FIELD_22_FILL', 0.0),\n",
       " (u'FIELD_23_FILL', 0.0),\n",
       " (u'FIELD_24_FILL', 0),\n",
       " (u'FIELD_25_FILL', 0.0),\n",
       " (u'FIELD_26_FILL', 0.0),\n",
       " (u'FIELD_27_FILL', 0.0),\n",
       " (u'FIELD_28_FILL', 0),\n",
       " (u'FIELD_29_FILL', 0.0),\n",
       " (u'FIELD_30_FILL', ''),\n",
       " (u'NROWS', 1)]"
      ]
     },
     "execution_count": 114,
     "metadata": {},
     "output_type": "execute_result"
    }
   ],
   "source": [
    "f['analysis']['songs'].attrs.items()"
   ]
  },
  {
   "cell_type": "code",
   "execution_count": 29,
   "metadata": {
    "collapsed": false
   },
   "outputs": [
    {
     "data": {
      "text/plain": [
       "[u'artist_mbtags', u'artist_mbtags_count', u'songs']"
      ]
     },
     "execution_count": 29,
     "metadata": {},
     "output_type": "execute_result"
    }
   ],
   "source": [
    "#f['musicbrainz']['songs'].attrs.items()\n",
    "f['musicbrainz'].keys()"
   ]
  },
  {
   "cell_type": "code",
   "execution_count": 36,
   "metadata": {
    "collapsed": false
   },
   "outputs": [
    {
     "name": "stdout",
     "output_type": "stream",
     "text": [
      "<HDF5 dataset \"artist_mbtags\": shape (0,), type \"|S256\">\n",
      "<HDF5 dataset \"artist_mbtags_count\": shape (0,), type \"<i4\">\n",
      "(0, 0)\n"
     ]
    }
   ],
   "source": [
    "print f['musicbrainz']['artist_mbtags']\n",
    "print f['musicbrainz']['artist_mbtags_count']\n",
    "print f['musicbrainz']['songs'][0]"
   ]
  },
  {
   "cell_type": "code",
   "execution_count": 101,
   "metadata": {
    "collapsed": false
   },
   "outputs": [
    {
     "data": {
      "text/plain": [
       "[(u'CLASS', 'TABLE'),\n",
       " (u'VERSION', '2.6'),\n",
       " (u'TITLE', 'table of metadata for one song'),\n",
       " (u'FIELD_0_NAME', 'analyzer_version'),\n",
       " (u'FIELD_1_NAME', 'artist_7digitalid'),\n",
       " (u'FIELD_2_NAME', 'artist_familiarity'),\n",
       " (u'FIELD_3_NAME', 'artist_hotttnesss'),\n",
       " (u'FIELD_4_NAME', 'artist_id'),\n",
       " (u'FIELD_5_NAME', 'artist_latitude'),\n",
       " (u'FIELD_6_NAME', 'artist_location'),\n",
       " (u'FIELD_7_NAME', 'artist_longitude'),\n",
       " (u'FIELD_8_NAME', 'artist_mbid'),\n",
       " (u'FIELD_9_NAME', 'artist_name'),\n",
       " (u'FIELD_10_NAME', 'artist_playmeid'),\n",
       " (u'FIELD_11_NAME', 'genre'),\n",
       " (u'FIELD_12_NAME', 'idx_artist_terms'),\n",
       " (u'FIELD_13_NAME', 'idx_similar_artists'),\n",
       " (u'FIELD_14_NAME', 'release'),\n",
       " (u'FIELD_15_NAME', 'release_7digitalid'),\n",
       " (u'FIELD_16_NAME', 'song_hotttnesss'),\n",
       " (u'FIELD_17_NAME', 'song_id'),\n",
       " (u'FIELD_18_NAME', 'title'),\n",
       " (u'FIELD_19_NAME', 'track_7digitalid'),\n",
       " (u'FIELD_0_FILL', ''),\n",
       " (u'FIELD_1_FILL', 0),\n",
       " (u'FIELD_2_FILL', 0.0),\n",
       " (u'FIELD_3_FILL', 0.0),\n",
       " (u'FIELD_4_FILL', ''),\n",
       " (u'FIELD_5_FILL', 0.0),\n",
       " (u'FIELD_6_FILL', ''),\n",
       " (u'FIELD_7_FILL', 0.0),\n",
       " (u'FIELD_8_FILL', ''),\n",
       " (u'FIELD_9_FILL', ''),\n",
       " (u'FIELD_10_FILL', 0),\n",
       " (u'FIELD_11_FILL', ''),\n",
       " (u'FIELD_12_FILL', 0),\n",
       " (u'FIELD_13_FILL', 0),\n",
       " (u'FIELD_14_FILL', ''),\n",
       " (u'FIELD_15_FILL', 0),\n",
       " (u'FIELD_16_FILL', 0.0),\n",
       " (u'FIELD_17_FILL', ''),\n",
       " (u'FIELD_18_FILL', ''),\n",
       " (u'FIELD_19_FILL', 0),\n",
       " (u'NROWS', 1)]"
      ]
     },
     "execution_count": 101,
     "metadata": {},
     "output_type": "execute_result"
    }
   ],
   "source": [
    "f['metadata']['songs'].attrs.items()"
   ]
  },
  {
   "cell_type": "code",
   "execution_count": 91,
   "metadata": {
    "collapsed": false
   },
   "outputs": [
    {
     "name": "stdout",
     "output_type": "stream",
     "text": [
      "\n",
      "165270\n",
      "0.581793765845\n",
      "0.401997543364\n",
      "ARD7TVE1187B99BFB1\n",
      "nan\n",
      "California - LA\n",
      "nan\n",
      "e77e51a5-4761-45b3-9847-2051f811e366\n",
      "Casual\n",
      "4479\n",
      "\n",
      "0\n",
      "0\n",
      "Fear Itself\n",
      "300848\n",
      "0.602119989906\n",
      "SOMZWCG12A8C13C480\n",
      "I Didn't Mean To\n",
      "3401791\n",
      "22050\n",
      "a222795e07cd65b7a530f1346f520649\n",
      "0.0\n",
      "218.93179\n",
      "0.247\n",
      "0.0\n",
      "0\n",
      "0\n",
      "0\n",
      "0\n",
      "0\n",
      "0\n",
      "0\n",
      "0\n",
      "0\n",
      "0\n",
      "0\n",
      "0\n",
      "0\n",
      "0\n",
      "0\n",
      "1\n",
      "0.736\n",
      "-11.197\n",
      "0\n",
      "0.636\n",
      "218.932\n",
      "92.198\n",
      "4\n",
      "0.778\n",
      "TRAAAAW128F429D538\n"
     ]
    }
   ],
   "source": [
    "for i in f['metadata']['songs'][0]:\n",
    "    print i\n",
    "for i in f['analysis']['songs'][0]:\n",
    "    print i"
   ]
  },
  {
   "cell_type": "code",
   "execution_count": 63,
   "metadata": {
    "collapsed": false
   },
   "outputs": [
    {
     "name": "stdout",
     "output_type": "stream",
     "text": [
      "<HDF5 group \"/musicbrainz\" (3 members)>\n",
      "/musicbrainz\n"
     ]
    },
    {
     "data": {
      "text/plain": [
       "[u'artist_mbtags', u'artist_mbtags_count', u'songs']"
      ]
     },
     "execution_count": 63,
     "metadata": {},
     "output_type": "execute_result"
    }
   ],
   "source": [
    "print f['musicbrainz']\n",
    "print f['musicbrainz'].name\n",
    "f['musicbrainz'].keys()"
   ]
  },
  {
   "cell_type": "code",
   "execution_count": 69,
   "metadata": {
    "collapsed": false
   },
   "outputs": [
    {
     "data": {
      "text/plain": [
       "[(u'artist_mbtags', <HDF5 dataset \"artist_mbtags\": shape (5,), type \"|S256\">),\n",
       " (u'artist_mbtags_count',\n",
       "  <HDF5 dataset \"artist_mbtags_count\": shape (5,), type \"<i4\">),\n",
       " (u'songs', <HDF5 dataset \"songs\": shape (1,), type \"|V8\">)]"
      ]
     },
     "execution_count": 69,
     "metadata": {},
     "output_type": "execute_result"
    }
   ],
   "source": [
    "f['musicbrainz'].items()"
   ]
  },
  {
   "cell_type": "code",
   "execution_count": 71,
   "metadata": {
    "collapsed": false
   },
   "outputs": [
    {
     "name": "stdout",
     "output_type": "stream",
     "text": [
      "indie\n",
      "pop\n",
      "cantonese\n",
      "hong kong\n",
      "chinese\n"
     ]
    }
   ],
   "source": [
    "for i in f['musicbrainz']['artist_mbtags']:\n",
    "    print i"
   ]
  },
  {
   "cell_type": "code",
   "execution_count": 74,
   "metadata": {
    "collapsed": false
   },
   "outputs": [
    {
     "name": "stdout",
     "output_type": "stream",
     "text": [
      "['indie', 'pop', 'cantonese', 'hong kong', 'chinese']\n",
      "[1, 1, 1, 1, 1]\n",
      "[(0, 0)]\n"
     ]
    }
   ],
   "source": [
    "print list(f['musicbrainz']['artist_mbtags'])\n",
    "print list(f['musicbrainz']['artist_mbtags_count'])\n",
    "print list(f['musicbrainz']['songs'])"
   ]
  },
  {
   "cell_type": "code",
   "execution_count": 13,
   "metadata": {
    "collapsed": false,
    "scrolled": false
   },
   "outputs": [
    {
     "name": "stdout",
     "output_type": "stream",
     "text": [
      "1 \t('./data/MillionSongSubset/data', ['B', 'A'], [])\n",
      "2 \t('./data/MillionSongSubset/data/B', ['B', 'E', 'A', 'F', 'H', 'D', 'I', 'G', 'C'], [])\n",
      "3 \t('./data/MillionSongSubset/data/B/B', ['O', 'Z', 'B', 'V', 'W', 'N', 'X', 'E', 'A', 'F', 'K', 'M', 'H', 'D', 'I', 'S', 'L', 'Y', 'G', 'T', 'Q', 'J', 'P', 'R', 'C', 'U'], [])\n",
      "4 \t('./data/MillionSongSubset/data/B/B/O', [], ['TRBBOPX12903D106F7.h5', 'TRBBOKQ128F933AE7C.h5', 'TRBBOPV12903CFB50F.h5', 'TRBBOJM12903CD1BDD.h5', 'TRBBOBQ12903CC5186.h5', 'TRBBOUO128F92D246B.h5', 'TRBBOUN128F425A4E6.h5', 'TRBBOFH128F14A2A46.h5', 'TRBBOBO128F425FDFC.h5', 'TRBBOME12903CC3862.h5', 'TRBBOTI12903CD9CBB.h5'])\n",
      "5 \t('./data/MillionSongSubset/data/B/B/Z', [], ['TRBBZJW12903CF71A6.h5', 'TRBBZSO128F4257B30.h5', 'TRBBZXJ12903CD3E8D.h5', 'TRBBZOG128F422B02B.h5', 'TRBBZRF128F9321407.h5', 'TRBBZAE128F92FDC05.h5', 'TRBBZTM12903CB84F3.h5', 'TRBBZQM128F931A529.h5', 'TRBBZFO128F932CD27.h5', 'TRBBZWC128F93172DA.h5', 'TRBBZCM12903CDDDA5.h5', 'TRBBZJP128F4287992.h5'])\n",
      "6 \t('./data/MillionSongSubset/data/B/B/B', [], ['TRBBBFO128F931535D.h5', 'TRBBBVC128F429AB66.h5', 'TRBBBEA128F93391BA.h5', 'TRBBBLA128F424E963.h5', 'TRBBBOA128F42624DA.h5', 'TRBBBMT128F42A0A4E.h5', 'TRBBBKS12903CDFCF4.h5', 'TRBBBUG128F148D65B.h5'])\n",
      "7 \t('./data/MillionSongSubset/data/B/B/V', [], ['TRBBVDW128F932262A.h5', 'TRBBVAH128F4270300.h5', 'TRBBVNR128E078E1E4.h5', 'TRBBVDP128F92F28CF.h5', 'TRBBVFT128F42ABB02.h5', 'TRBBVXL128F427C3F2.h5', 'TRBBVPM12903CDB094.h5', 'TRBBVFB128F1461507.h5', 'TRBBVSO128F9341C12.h5', 'TRBBVBM128F92D07F1.h5', 'TRBBVYO128F146AEDC.h5', 'TRBBVBM128F4276D82.h5', 'TRBBVYI128F4291603.h5', 'TRBBVTH128F92F3B6F.h5'])\n"
     ]
    }
   ],
   "source": [
    "import os\n",
    "\n",
    "cnt = 0\n",
    "for i in os.walk(msd_subset_path):\n",
    "    cnt +=1\n",
    "    if cnt <8:\n",
    "        print cnt, '\\t', i\n",
    "    else:\n",
    "        break"
   ]
  },
  {
   "cell_type": "code",
   "execution_count": 23,
   "metadata": {
    "collapsed": false
   },
   "outputs": [
    {
     "data": {
      "text/plain": [
       "['./data/MillionSongSubset/data/B/B/O/TRBBOPX12903D106F7.h5',\n",
       " './data/MillionSongSubset/data/B/B/O/TRBBOKQ128F933AE7C.h5',\n",
       " './data/MillionSongSubset/data/B/B/O/TRBBOPV12903CFB50F.h5',\n",
       " './data/MillionSongSubset/data/B/B/O/TRBBOJM12903CD1BDD.h5',\n",
       " './data/MillionSongSubset/data/B/B/O/TRBBOBQ12903CC5186.h5',\n",
       " './data/MillionSongSubset/data/B/B/O/TRBBOUO128F92D246B.h5',\n",
       " './data/MillionSongSubset/data/B/B/O/TRBBOUN128F425A4E6.h5',\n",
       " './data/MillionSongSubset/data/B/B/O/TRBBOFH128F14A2A46.h5',\n",
       " './data/MillionSongSubset/data/B/B/O/TRBBOBO128F425FDFC.h5',\n",
       " './data/MillionSongSubset/data/B/B/O/TRBBOME12903CC3862.h5',\n",
       " './data/MillionSongSubset/data/B/B/O/TRBBOTI12903CD9CBB.h5']"
      ]
     },
     "execution_count": 23,
     "metadata": {},
     "output_type": "execute_result"
    }
   ],
   "source": [
    "glob.glob(msd_subset_path+'/B/B/O/'+'*.h5')"
   ]
  },
  {
   "cell_type": "code",
   "execution_count": 17,
   "metadata": {
    "collapsed": false
   },
   "outputs": [
    {
     "data": {
      "text/plain": [
       "'./data/MillionSongSubset/data'"
      ]
     },
     "execution_count": 17,
     "metadata": {},
     "output_type": "execute_result"
    }
   ],
   "source": [
    "msd_subset_path"
   ]
  },
  {
   "cell_type": "code",
   "execution_count": 22,
   "metadata": {
    "collapsed": false
   },
   "outputs": [
    {
     "data": {
      "text/plain": [
       "'./data/MillionSongSubset/data/B/B/O*.h5'"
      ]
     },
     "execution_count": 22,
     "metadata": {},
     "output_type": "execute_result"
    }
   ],
   "source": [
    "msd_subset_path+'/B/B/O'+'*.h5'"
   ]
  },
  {
   "cell_type": "code",
   "execution_count": 21,
   "metadata": {
    "collapsed": false
   },
   "outputs": [
    {
     "data": {
      "text/plain": [
       "'./data/MillionSongSubset/data/B/B/O/*.h5'"
      ]
     },
     "execution_count": 21,
     "metadata": {},
     "output_type": "execute_result"
    }
   ],
   "source": [
    "os.path.join(msd_subset_path,'B/B/O','*.h5')"
   ]
  },
  {
   "cell_type": "markdown",
   "metadata": {},
   "source": [
    "## Downloading the data"
   ]
  },
  {
   "cell_type": "code",
   "execution_count": 1,
   "metadata": {
    "collapsed": false
   },
   "outputs": [],
   "source": [
    "mkdir data\n",
    "cd data\n",
    "\n",
    "# Download data subset of 10,000 songs, ~1GB to develop and test code\n",
    "wget http://static.echonest.com/millionsongsubset_full.tar.gz data_subset\n",
    "wait\n",
    "\n",
    "tar xvzf millionsongsubset_full.tar.gz\n",
    "wait\n",
    "\n",
    "# Download list of all artist ID \n",
    "# The format is: artist id<SEP>artist mbid<SEP>track id<SEP>artist name\n",
    "wget http://labrosa.ee.columbia.edu/millionsong/sites/default/files/AdditionalFiles/unique_artists.txt\n",
    "wait\n",
    "wc -l unique_artists.txt #44745 unique_artists.txt\n",
    "\n",
    "# Download list of all unique artist terms (Echo Nest tags) \n",
    "wget http://labrosa.ee.columbia.edu/millionsong/sites/default/files/AdditionalFiles/unique_terms.txt\n",
    "wait\n",
    "wc -l unique_terms.txt #7643 unique_terms.txt\n",
    "    \n",
    "# Download list of all unique artist musicbrainz tags\n",
    "wget http://labrosa.ee.columbia.edu/millionsong/sites/default/files/AdditionalFiles/unique_mbtags.txt\n",
    "wait\n",
    "wc -l unique_mbtags.txt #2321 unique_mbtags.txt"
   ]
  },
  {
   "cell_type": "code",
   "execution_count": 2,
   "metadata": {
    "collapsed": true
   },
   "outputs": [],
   "source": [
    "import tables"
   ]
  },
  {
   "cell_type": "code",
   "execution_count": 4,
   "metadata": {
    "collapsed": false
   },
   "outputs": [],
   "source": [
    "import hdf5_getters\n"
   ]
  },
  {
   "cell_type": "code",
   "execution_count": 1,
   "metadata": {
    "collapsed": false
   },
   "outputs": [
    {
     "name": "stdout",
     "output_type": "stream",
     "text": [
      "/data/asoto/projectW205\r\n"
     ]
    }
   ],
   "source": [
    "!pwd"
   ]
  },
  {
   "cell_type": "markdown",
   "metadata": {},
   "source": [
    "## Sample Code from Million Song Dataset\n",
    "\n",
    "http://labrosa.ee.columbia.edu/millionsong/sites/default/files/tutorial1.pdf"
   ]
  },
  {
   "cell_type": "code",
   "execution_count": 1,
   "metadata": {
    "collapsed": false
   },
   "outputs": [],
   "source": [
    "import os, sys, time, glob, datetime\n",
    "import hdf5_getters as GETTERS\n",
    "\n",
    "# usual imports\n",
    "import os\n",
    "import sys\n",
    "import time\n",
    "import glob\n",
    "import datetime\n",
    "import sqlite3\n",
    "import numpy as np\n",
    "\n",
    "# CHANGE IT TO YOUR LOCAL CONFIGURATION\n",
    "msd_subset_path='./data/MillionSongSubset'\n",
    "msd_subset_data_path=os.path.join(msd_subset_path,'data')\n",
    "msd_subset_addf_path=os.path.join(msd_subset_path,'AdditionalFiles')\n",
    "\n",
    "assert os.path.isdir(msd_subset_path),'wrong path' # sanity check\n",
    "\n",
    "# the following function simply gives us a nice string for a time lag in seconds\n",
    "def strtimedelta(starttime,stoptime):\n",
    "    return str(datetime.timedelta(seconds=stoptime-starttime))\n",
    "\n",
    "# we define this very useful function to iterate the files\n",
    "def apply_to_all_files(basedir,func=lambda x: x,ext='.h5'):\n",
    "    \"\"\"\n",
    "    From a base directory, go through all subdirectories,\n",
    "    find all files with the given extension, apply the\n",
    "    given function 'func' to all of them.\n",
    "    If no 'func' is passed, we do nothing except counting.\n",
    "    INPUT\n",
    "       basedir  - base directory of the dataset\n",
    "       func     - function to apply to all filenames\n",
    "       ext      - extension, .h5 by default\n",
    "    RETURN\n",
    "       number of files\n",
    "    \"\"\"\n",
    "    cnt = 0\n",
    "    # iterate over all files in all subdirectories\n",
    "    for root, dirs, files in os.walk(basedir):\n",
    "        files = glob.glob(os.path.join(root,'*'+ext))\n",
    "        # count files\n",
    "        cnt += len(files)\n",
    "        # apply function to all files\n",
    "        break_cnt = 0\n",
    "        for f in files :\n",
    "            break_cnt += 1\n",
    "            func(f)\n",
    "            if break_cnt >= 5:\n",
    "                break\n",
    "    return cnt"
   ]
  },
  {
   "cell_type": "code",
   "execution_count": 3,
   "metadata": {
    "collapsed": false
   },
   "outputs": [
    {
     "data": {
      "text/plain": [
       "'./data/MillionSongSubset/data'"
      ]
     },
     "execution_count": 3,
     "metadata": {},
     "output_type": "execute_result"
    }
   ],
   "source": [
    "msd_subset_data_path"
   ]
  },
  {
   "cell_type": "code",
   "execution_count": 2,
   "metadata": {
    "collapsed": false
   },
   "outputs": [
    {
     "name": "stdout",
     "output_type": "stream",
     "text": [
      "number of song files: 10000\n"
     ]
    }
   ],
   "source": [
    "# we can now easily count the number of files in the dataset\n",
    "print 'number of song files:',apply_to_all_files(msd_subset_data_path)"
   ]
  },
  {
   "cell_type": "code",
   "execution_count": 4,
   "metadata": {
    "collapsed": false
   },
   "outputs": [
    {
     "name": "stdout",
     "output_type": "stream",
     "text": [
      "all artist names extracted in: 0:08:51.425429\n",
      "found 2818 unique artist names\n",
      "The Real Kids\n",
      "JennyAnyKind\n",
      "4 Skins\n",
      "Dean Evenson\n",
      "Rude Boys\n"
     ]
    }
   ],
   "source": [
    "# let's now get all artist names in a set(). One nice property:\n",
    "# if we enter many times the same artist, only one will be kept.\n",
    "all_artist_names = set()\n",
    "\n",
    "# we define the function to apply to all files\n",
    "def func_to_get_artist_name(filename):\n",
    "    \"\"\"\n",
    "    This function does 3 simple things:\n",
    "    - open the song file\n",
    "    - get artist ID and put it\n",
    "    - close the file\n",
    "    \"\"\"\n",
    "    h5 = GETTERS.open_h5_file_read(filename)\n",
    "    artist_name = GETTERS.get_artist_name(h5)\n",
    "    all_artist_names.add( artist_name )\n",
    "    h5.close()\n",
    "    \n",
    "# let's apply the previous function to all files\n",
    "# we'll also measure how long it takes\n",
    "t1 = time.time()\n",
    "apply_to_all_files(msd_subset_data_path,func=func_to_get_artist_name)\n",
    "t2 = time.time()\n",
    "print 'all artist names extracted in:',strtimedelta(t1,t2)\n",
    "\n",
    "\n",
    "\n",
    "\n",
    "# let's see some of the content of 'all_artist_names'\n",
    "print 'found',len(all_artist_names),'unique artist names'\n",
    "for k in range(5):\n",
    "    print list(all_artist_names)[k]"
   ]
  },
  {
   "cell_type": "code",
   "execution_count": 5,
   "metadata": {
    "collapsed": false
   },
   "outputs": [
    {
     "data": {
      "text/plain": [
       "2818"
      ]
     },
     "execution_count": 5,
     "metadata": {},
     "output_type": "execute_result"
    }
   ],
   "source": [
    "len(all_artist_names)"
   ]
  },
  {
   "cell_type": "code",
   "execution_count": 6,
   "metadata": {
    "collapsed": false
   },
   "outputs": [
    {
     "name": "stdout",
     "output_type": "stream",
     "text": [
      "/bin/sh: aws: command not found\r\n"
     ]
    }
   ],
   "source": [
    "!aws s3 ls"
   ]
  },
  {
   "cell_type": "code",
   "execution_count": 7,
   "metadata": {
    "collapsed": true
   },
   "outputs": [],
   "source": [
    "from  mrjob.job import MRJob"
   ]
  },
  {
   "cell_type": "code",
   "execution_count": 8,
   "metadata": {
    "collapsed": false
   },
   "outputs": [
    {
     "data": {
      "text/plain": [
       "14090"
      ]
     },
     "execution_count": 8,
     "metadata": {},
     "output_type": "execute_result"
    }
   ],
   "source": [
    "2818*5"
   ]
  }
 ],
 "metadata": {
  "kernelspec": {
   "display_name": "Python 2",
   "language": "python",
   "name": "python2"
  },
  "language_info": {
   "codemirror_mode": {
    "name": "ipython",
    "version": 2
   },
   "file_extension": ".py",
   "mimetype": "text/x-python",
   "name": "python",
   "nbconvert_exporter": "python",
   "pygments_lexer": "ipython2",
   "version": "2.7.10"
  }
 },
 "nbformat": 4,
 "nbformat_minor": 0
}
