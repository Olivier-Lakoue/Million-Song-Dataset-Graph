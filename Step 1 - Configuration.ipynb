{
 "cells": [
  {
   "cell_type": "markdown",
   "metadata": {},
   "source": [
    "#### LINK TO DOWNLOAD NEO4J\n",
    "\n",
    "http://neo4j.com/artifact.php?name=neo4j-community-2.3.1-unix.tar.gz\n",
    " \n",
    "#### AWS SAMPLE CODE\n",
    "\n",
    "https://alestic.com/2013/11/aws-cli-query/\n",
    "\n",
    "# Attempt to automate configuration"
   ]
  },
  {
   "cell_type": "code",
   "execution_count": null,
   "metadata": {
    "collapsed": true
   },
   "outputs": [],
   "source": [
    "%%bash\n",
    "#'''''''''''''''''''''''''''''''''''''''''''''''''''''''''''''''''''''''''''''''''\n",
    "# W205 Final Project: Million Song Dataset (MSD)\n",
    "\n",
    "# Requirements: W205 AMI with Hadoop and Spark\n",
    "#               aws cli installed and configured (run the following:\n",
    "#  $aws configure\n",
    "#  AWS Access Key ID [None]: <access key>\n",
    "#  AWS Secret Access Key [None]: <secret access key>\n",
    "#  Default region name [None]: us-east-1\n",
    "#  Default output format [None]: json\n",
    "\n",
    "# This configurations scripts is run from within the EC2 instance.\n",
    "# It assumes that the instance DOES NOT have any volume attached and that the mount\n",
    "# point /data is available\n",
    " \n",
    "# Python Libraries: py2neo,\n",
    "#'''''''''''''''''''''''''''''''''''''''''''''''''''''''''''''''''''''''''''''''''\n",
    "\n",
    "# AS ROOT\n",
    "# === Installations ===\n",
    "sudo yum install jq\n",
    "pip install awscli\n",
    " \n",
    "# === Install ec2-metadata tool to get information about this instance ===\n",
    "wget http://s3.amazonaws.com/ec2metadata/ec2-metadata\n",
    "chmod a+x ec2-metadata\n",
    "mv ec2-metadata /usr/bin\n",
    " \n",
    "# ============================================================================================================================\n",
    "#'''''''''''''''''''''''''''''''''''''''''''''''''''''''''''''''''''''''''''''''''\n",
    "# AWS Setup - Attache 2 volumes to this instance\n",
    "# Main Volume:\n",
    "# MSD VolumeL  is where the Million Song Dataset (MSD)\n",
    "#'''''''''''''''''''''''''''''''''''''''''''''''''''''''''''''''''''''''''''''''''\n",
    "\n",
    "# === Save instance info in environment variables ===\n",
    "# Get instance id\n",
    "INSTANCE_ID=$(ec2-metadata -i | cut -d:  -f2| cut -d' ' -f2)\n",
    "# Get instance public hostname\n",
    "INSTANCE_PDNS=$(ec2-metadata -p | cut -d:  -f2| cut -d' ' -f2)\n",
    "# Get instance availability zone\n",
    "INSTANCE_ZONE=$(ec2-metadata -z | cut -d:  -f2| cut -d' ' -f2)\n",
    "\n",
    "\n",
    "export INSTANCE_ID\n",
    "export INSTANCE_PDNS\n",
    "export INSTANCE_ZONE\n",
    "\n",
    "echo 'export INSTANCE_ID='$INSTANCE_ID >> ~/.bashrc\n",
    "echo 'export INSTANCE_PDNS='$INSTANCE_PDNS >> ~/.bashrc\n",
    "echo 'export INSTANCE_ZONE='$INSTANCE_ZONE >> ~/.bashrc\n",
    "\n",
    "source ~/.bashrc\n",
    "\n",
    "# === Create and Attache Volumes ===\n",
    "mkdir aws-info\n",
    " \n",
    "### Create project main working volume\n",
    "aws ec2 create-volume --size 100 --availability-zone $INSTANCE_ZONE --volume-type gp2 > aws-info/main-volume.json\n",
    "wait\n",
    "MAIN_VOL_ID = jq '.VolumeId' aws-info/main-volume.json\n",
    " \n",
    "aws ec2 attach-volume --volume-id $MAIN_VOL_ID --instance-id $INSTANCE_ID --device /dev/xvdf\n",
    "wait\n",
    "mkdir data\n",
    "sudo mkfs -t ext4 /dev/xvdf\n",
    "sudo mount /dev/xvdf /data\n",
    " \n",
    "### Create volume from AWS snapshot of Million Song Dataset (full dataset)\n",
    "aws ec2 create-volume --availability-zone $INSTANCE_ZONE --snapshot-id snap-5178cf30 --volume-type gp2 > aws-info/msd-volume.json\n",
    "wait\n",
    "MSD_VOL_ID = jq '.VolumeId' aws-info/msd-volume.json\n",
    " \n",
    "aws ec2 attach-volume --volume-id $MSD_VOL_ID --instance-id $INSTANCE_ID --device /dev/xvdg\n",
    "wait\n",
    "mkdir msong_data\n",
    "sudo mount /dev/xvdg /msong_data\n",
    " \n",
    "# ============================================================================================================================\n",
    "# === Install Neo4j in main directory ===\n",
    " \n",
    "cd /data\n",
    "wget http://neo4j.com/artifact.php?name=neo4j-community-2.3.1-unix.tar.gz\n",
    "tar -xf neo4j-community-2.3.1-unix.tar.gz\n",
    "export NEO4J_HOME=\"/data/neo4j\""
   ]
  },
  {
   "cell_type": "code",
   "execution_count": null,
   "metadata": {
    "collapsed": true
   },
   "outputs": [],
   "source": []
  },
  {
   "cell_type": "code",
   "execution_count": null,
   "metadata": {
    "collapsed": true
   },
   "outputs": [],
   "source": []
  }
 ],
 "metadata": {
  "kernelspec": {
   "display_name": "Python 2",
   "language": "python",
   "name": "python2"
  },
  "language_info": {
   "codemirror_mode": {
    "name": "ipython",
    "version": 2
   },
   "file_extension": ".py",
   "mimetype": "text/x-python",
   "name": "python",
   "nbconvert_exporter": "python",
   "pygments_lexer": "ipython2",
   "version": "2.7.10"
  }
 },
 "nbformat": 4,
 "nbformat_minor": 0
}
