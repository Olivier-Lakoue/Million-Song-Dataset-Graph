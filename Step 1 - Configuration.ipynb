{
 "cells": [
  {
   "cell_type": "markdown",
   "metadata": {},
   "source": [
    "#### LINK TO DOWNLOAD NEO4J\n",
    "\n",
    "http://neo4j.com/artifact.php?name=neo4j-community-2.3.1-unix.tar.gz\n",
    " \n",
    "#### AWS SAMPLE CODE\n",
    "\n",
    "https://alestic.com/2013/11/aws-cli-query/"
   ]
  },
  {
   "cell_type": "markdown",
   "metadata": {},
   "source": [
    "---\n",
    "## W205 Final Project: Million Song Dataset (MSD)\n",
    "\n",
    "Requirements: W205 AMI with Hadoop and Spark\n",
    "              aws cli installed and configured (run the following:\n",
    "\n",
    "`$aws configure`\n",
    " AWS Access Key ID [None]: <access key>  \n",
    " AWS Secret Access Key [None]: <secret access key>  \n",
    " Default region name [None]: us-east-1  \n",
    " Default output format [None]: json  \n",
    "\n",
    "This configurations scripts is run from within the EC2 instance.\n",
    "\n",
    "It assumes that the instance DOES NOT have any volume attached and that the mount\n",
    "\n",
    "point /data is available\n",
    " \n",
    "Python Libraries: py2neo,"
   ]
  },
  {
   "cell_type": "markdown",
   "metadata": {},
   "source": [
    "# Attempt to automate configuration"
   ]
  },
  {
   "cell_type": "code",
   "execution_count": null,
   "metadata": {
    "collapsed": true
   },
   "outputs": [],
   "source": [
    "%%bash\n",
    "# === Installations ===\n",
    "sudo yum install jq\n",
    "pip install awscli\n",
    "\n",
    "pip install pyspark\n",
    "\n",
    "pip install cython\n",
    "pip install numpy\n",
    "pip install numexpr\n",
    "\n",
    "\n",
    "wget http://www.hdfgroup.org/ftp/HDF5/current/src/hdf5-1.8.16.tar\n",
    "tar -xvf hdf5-1.8.16.tar \n",
    "cd hdf5-1.8.16\n",
    "./configure -prefix=/usr/local\n",
    "make\n",
    "make install\n",
    "pip install h5py\n",
    "\n",
    "\n",
    "wget http://s3.amazonaws.com/ec2metadata/ec2-metadata\n",
    "chmod a+x ec2-metadata\n",
    "mv ec2-metadata /usr/bin\n"
   ]
  },
  {
   "cell_type": "markdown",
   "metadata": {},
   "source": [
    "## AWS Setup\n",
    "\n",
    "Attache 2 volumes to this instance:\n",
    "\n",
    "- **Graph Volume:** 200GB volume created to store graph\n",
    "- **MSD Volume:** 280GB volume created form snapshot *snap-5178cf30* with the entire Million Song Dataset (MSD). For details about the snapshot see [AWS Datasets](https://aws.amazon.com/datasets/million-song-dataset/)"
   ]
  },
  {
   "cell_type": "code",
   "execution_count": 2,
   "metadata": {
    "collapsed": true
   },
   "outputs": [],
   "source": [
    "!mkdir config"
   ]
  },
  {
   "cell_type": "code",
   "execution_count": 13,
   "metadata": {
    "collapsed": false
   },
   "outputs": [
    {
     "name": "stdout",
     "output_type": "stream",
     "text": [
      "Overwriting config/create_volumes.sh\n"
     ]
    }
   ],
   "source": [
    "%%writefile config/create_volumes.sh\n",
    "#!/usr/bin/env bash\n",
    "\n",
    "# =============================================\n",
    "# RUN SCRIPT AS ROOT USER\n",
    "# Attaches 2 volumes to this instance: a Graph Volume of 200 GB mounted to /graph\n",
    "# and a MSD Volume 280GB from snap-5178cf30 with the entire dataset mounted to /msong_dataset\n",
    "\n",
    "cd ~\n",
    "\n",
    "# ''''''''''''''''''''''''''''''''''''''''''''''''''''''''''''''''''''\n",
    "# Save instance info in environment variables\n",
    "# ''''''''''''''''''''''''''''''''''''''''''''''''''''''''''''''''''''\n",
    "\n",
    "# Get instance id\n",
    "INSTANCE_ID=$(ec2-metadata -i | cut -d:  -f2| cut -d' ' -f2)\n",
    "export INSTANCE_ID\n",
    "# Get instance public hostname\n",
    "INSTANCE_PDNS=$(ec2-metadata -p | cut -d:  -f2| cut -d' ' -f2)\n",
    "export INSTANCE_PDNS\n",
    "# Get instance availability zone\n",
    "INSTANCE_ZONE=$(ec2-metadata -z | cut -d:  -f2| cut -d' ' -f2)\n",
    "export INSTANCE_ZONE\n",
    "\n",
    "#echo 'export INSTANCE_ID='$INSTANCE_ID >> ~/.bashrc\n",
    "#echo 'export INSTANCE_PDNS='$INSTANCE_PDNS >> ~/.bashrc\n",
    "#echo 'export INSTANCE_ZONE='$INSTANCE_ZONE >> ~/.bashrc\n",
    "#source ~/.bashrc\n",
    "\n",
    "# ''''''''''''''''''''''''''''''''''''''''''''''''''''''''''''''''''''\n",
    "# Create Volumes\n",
    "# ''''''''''''''''''''''''''''''''''''''''''''''''''''''''''''''''''''\n",
    "\n",
    "mkdir -p aws-info\n",
    " \n",
    "### Create volume to store graph\n",
    "echo LOG: Creating graph volume...\n",
    "aws ec2 create-volume --size 200 --availability-zone $INSTANCE_ZONE --volume-type gp2 > aws-info/graph-volume.json\n",
    "wait\n",
    "GRAPH_VOL_ID=$(jq '.VolumeId' aws-info/graph-volume.json)\n",
    "GRAPH_VOL_ID=\"${GRAPH_VOL_ID%\\\"}\"\n",
    "GRAPH_VOL_ID=\"${GRAPH_VOL_ID#\\\"}\"\n",
    "export GRAPH_VOL_ID\n",
    "\n",
    "### Create volume from AWS snapshot of Million Song Dataset (full dataset)\n",
    "echo LOG: Copying Million Song Dataset volume...\n",
    "aws ec2 create-volume --availability-zone $INSTANCE_ZONE \\\n",
    "--snapshot-id snap-5178cf30 --volume-type gp2 > aws-info/msd-volume.json\n",
    "wait\n",
    "MSD_VOL_ID=$(jq '.VolumeId' aws-info/msd-volume.json)\n",
    "MSD_VOL_ID=\"${MSD_VOL_ID%\\\"}\"\n",
    "MSD_VOL_ID=\"${MSD_VOL_ID#\\\"}\"\n",
    "export MSD_VOL_ID\n",
    "\n",
    "echo LOG: Wait for volumes to become available...\n",
    "\n",
    "sleep 30\n",
    "\n",
    "# ''''''''''''''''''''''''''''''''''''''''''''''''''''''''''''''''''''\n",
    "# Attache volumes to this instance\n",
    "# ''''''''''''''''''''''''''''''''''''''''''''''''''''''''''''''''''''\n",
    "    \n",
    "echo LOG: Attaching graph volumne...\n",
    "aws ec2 attach-volume --volume-id $GRAPH_VOL_ID --instance-id $INSTANCE_ID --device /dev/xvdh\n",
    "\n",
    "echo LOG: Attaching Million Song Dataset volume...\n",
    "aws ec2 attach-volume --volume-id $MSD_VOL_ID --instance-id $INSTANCE_ID --device /dev/xvdj\n",
    "\n",
    "echo LOG: Wait for volumes to be attached...\n",
    "    \n",
    "sleep 30 \n",
    "\n",
    "# ''''''''''''''''''''''''''''''''''''''''''''''''''''''''''''''''''''\n",
    "# Mount volumes to instance\n",
    "# ''''''''''''''''''''''''''''''''''''''''''''''''''''''''''''''''''''\n",
    "\n",
    "mkdir -p /graph\n",
    "sudo mkfs -t ext4 /dev/xvdh\n",
    "sudo mount -t ext4 /dev/xvdh /graph\n",
    "chmod g+rwx -R /graph/\n",
    "\n",
    "mkdir -p /msong_dataset\n",
    "sudo mount /dev/xvdj /msong_dataset\n"
   ]
  },
  {
   "cell_type": "code",
   "execution_count": 8,
   "metadata": {
    "collapsed": false
   },
   "outputs": [],
   "source": [
    "!chmod a+x config/create_volumes.sh"
   ]
  },
  {
   "cell_type": "code",
   "execution_count": null,
   "metadata": {
    "collapsed": true
   },
   "outputs": [],
   "source": [
    "# ''''''''''''''''''''''''''''''''''''''''''''''''''''''''''''''''''''\n",
    "# Unmount volumes from instance\n",
    "# ''''''''''''''''''''''''''''''''''''''''''''''''''''''''''''''''''''\n",
    "umount /graph\n",
    "umount /msong_dataset\n",
    "\n",
    "# ''''''''''''''''''''''''''''''''''''''''''''''''''''''''''''''''''''\n",
    "# Detaching volumes from this instance\n",
    "# ''''''''''''''''''''''''''''''''''''''''''''''''''''''''''''''''''''\n",
    "    \n",
    "echo LOG: Detaching graph volumne...\n",
    "aws ec2 detach-volume --volume-id $GRAPH_VOL_ID --instance-id $INSTANCE_ID\n",
    "\n",
    "echo LOG: Detaching Million Song Dataset volume...\n",
    "aws ec2 detach-volume --volume-id $MSD_VOL_ID --instance-id $INSTANCE_ID"
   ]
  },
  {
   "cell_type": "code",
   "execution_count": null,
   "metadata": {
    "collapsed": true
   },
   "outputs": [],
   "source": [
    "aws emr create-cluster --name \"ProcessMSD\" \\\n",
    "--release-label emr-4.2.0 --applications Name=Spark \\\n",
    "--instance-count 5 --use-default-roles --ec2-attributes KeyName=atjose_kpair \\\n",
    "--instance-type m3.2xlarge \\\n",
    "--configurations file:///data/asoto/projectW205/config/emrconfig.json | tee aws-info/spark"
   ]
  },
  {
   "cell_type": "code",
   "execution_count": null,
   "metadata": {
    "collapsed": true
   },
   "outputs": [],
   "source": [
    "i-df177369\n",
    "MSD_VOL_ID=vol-7e18339d\n",
    "GRAPH_VOL_ID=vol-191833fa\n",
    "ec2-54-227-33-108.compute-1.amazonaws.com"
   ]
  },
  {
   "cell_type": "code",
   "execution_count": null,
   "metadata": {
    "collapsed": true
   },
   "outputs": [],
   "source": [
    "aws ec2 attach-volume --volume-id vol-191833fa --instance-id i-df177369 --device /dev/xvdh\n",
    "aws ec2 attach-volume --volume-id vol-7e18339d --instance-id i-df177369 --device /dev/xvdj\n"
   ]
  },
  {
   "cell_type": "code",
   "execution_count": null,
   "metadata": {
    "collapsed": true
   },
   "outputs": [],
   "source": []
  },
  {
   "cell_type": "code",
   "execution_count": null,
   "metadata": {
    "collapsed": true
   },
   "outputs": [],
   "source": []
  },
  {
   "cell_type": "markdown",
   "metadata": {},
   "source": [
    "## Install Neo4j in /graph directory"
   ]
  },
  {
   "cell_type": "code",
   "execution_count": null,
   "metadata": {
    "collapsed": true
   },
   "outputs": [],
   "source": [
    "%%bash\n",
    "# === Install Neo4j in /graph directory ===\n",
    "\n",
    "cd ~\n",
    "cd /graph\n",
    "wget http://neo4j.com/artifact.php?name=neo4j-community-2.3.1-unix.tar.gz\n",
    "tar -xf neo4j-community-2.3.1-unix.tar.gz\n",
    "export NEO4J_HOME=\"/data/neo4j\""
   ]
  },
  {
   "cell_type": "markdown",
   "metadata": {},
   "source": [
    "## Install Anaconda"
   ]
  },
  {
   "cell_type": "code",
   "execution_count": null,
   "metadata": {
    "collapsed": true
   },
   "outputs": [],
   "source": [
    "\n",
    "cd /graph\n",
    "wget https://3230d63b5fc54e62148e-c95ac804525aac4b6dba79b00b39d1d3.ssl.cf1.rackcdn.com/Anaconda2-2.4.1-Linux-x86_64.sh\n",
    "bash Anaconda2-2.4.1-Linux-x86_64.sh\n",
    "conda install h5py\n",
    "    "
   ]
  }
 ],
 "metadata": {
  "kernelspec": {
   "display_name": "Python 2",
   "language": "python",
   "name": "python2"
  },
  "language_info": {
   "codemirror_mode": {
    "name": "ipython",
    "version": 2
   },
   "file_extension": ".py",
   "mimetype": "text/x-python",
   "name": "python",
   "nbconvert_exporter": "python",
   "pygments_lexer": "ipython2",
   "version": "2.7.10"
  }
 },
 "nbformat": 4,
 "nbformat_minor": 0
}
