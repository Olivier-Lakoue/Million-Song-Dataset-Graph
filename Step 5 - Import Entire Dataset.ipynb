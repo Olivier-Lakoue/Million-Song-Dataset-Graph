{
 "cells": [
  {
   "cell_type": "code",
   "execution_count": null,
   "metadata": {
    "collapsed": true
   },
   "outputs": [],
   "source": [
    "nodes_artists  \n",
    "nodes_tags   \n",
    "rel_artist_has_album  \n",
    "rel_performs         \n",
    "rel_similar_songs  \n",
    "rel_song_in_album\n",
    "nodes_albums   \n",
    "nodes_songs    \n",
    "nodes_years  \n",
    "rel_artist_has_tag   \n",
    "rel_similar_artists  \n",
    "rel_song_has_tag   \n",
    "rel_song_year\n"
   ]
  },
  {
   "cell_type": "code",
   "execution_count": null,
   "metadata": {
    "collapsed": true
   },
   "outputs": [],
   "source": [
    "#!/usr/bin/env bash\n",
    "\n",
    "folders=(nodes_artists nodes_songs nodes_albums nodes_years nodes_tags rel_similar_artists rel_performs rel_artist_has_album rel_artist_has_tag rel_song_in_album rel_similar_songs rel_song_has_tag rel_song_year)\n",
    "newName=(artist song album year tag sim-a perf has-album a-has-tag in-album sim-s s-has-tag release)\n",
    "\n",
    "# Rename files\n",
    "for i in {0..12}\n",
    "do \n",
    "rename part-00 ${newName[$i]}- /graph/import/tmp/${folders[$i]}/part*\n",
    "done\n",
    "\n",
    "for i in {0..12}\n",
    "do \n",
    "cp /graph/import/tmp/${folders[$i]}/${newName[$i]}* /graph/neo4j/data/import/\n",
    "done\n",
    "\n",
    "# Create header CSV files\n",
    "echo \"id:ID(artist),idmb,id7d,name\" > /graph/neo4j/data/import/hdr-artist.csv\n",
    "echo \"id:ID(song),trackid,title,danceability:FLOAT,duration:FLOAT,energy:FLOAT,loudness:FLOAT\" > /graph/neo4j/data/import/hdr-song.csv\n",
    "echo \"name:ID(album)\" > /graph/neo4j/data/import/hdr-album.csv\n",
    "echo \"year:INT\" > /graph/neo4j/data/import/hdr-year.csv\n",
    "echo \"tag:ID(tag)\" > /graph/neo4j/data/import/hdr-tag.csv\n",
    " \n",
    "echo \":START_ID(artist),:END_ID(artist)\" > /graph/neo4j/data/import/hdr-sim-a.csv\n",
    "echo \":START_ID(artist),:END_ID(song)\" > /graph/neo4j/data/import/hdr-perf.csv\n",
    "echo \":START_ID(artist),:END_ID(album)\" > /graph/neo4j/data/import/hdr-has-album.csv\n",
    "echo \":START_ID(artist),:END_ID(tag),frq:FLOAT,weight:FLOAT\" > /graph/neo4j/data/import/hdr-a-has-tag.csv\n",
    "echo \":START_ID(song),:END_ID(album)\" > /graph/neo4j/data/import/hdr-in-album.csv\n",
    "echo \":START_ID(song),:END_ID(song),weight:FLOAT\" > /graph/neo4j/data/import/hdr-sim-s.csv\n",
    "echo \":START_ID(song),:END_ID(tag),weight:FLOAT\" > /graph/neo4j/data/import/hdr-s-has-tag.csv\n",
    "echo \":START_ID(song),:END_ID(year)\" > /graph/neo4j/data/import/hdr-release.csv"
   ]
  },
  {
   "cell_type": "code",
   "execution_count": null,
   "metadata": {
    "collapsed": true
   },
   "outputs": [],
   "source": [
    "cd /graph/neo4j/data/import\n",
    "\n",
    "$NEO4J_HOME/bin/neo4j-import --into /graph/neo4j/data/msong.db \\\n",
    "--skip-duplicate-nodes true --bad-tolerance 50000 \\\n",
    "--id-type string \\\n",
    "--nodes:Artist hdr-artist.csv,$(echo $(ls art*) | tr ' ' ,)  \\\n",
    "--nodes:SONG   hdr-song.csv,$(echo $(ls song*) | tr ' ' ,)  \\\n",
    "--nodes:ALBUM  hdr-album.csv,$(echo $(ls album*) | tr ' ' ,)  \\\n",
    "--nodes:YEAR   hdr-year.csv,$(echo $(ls year*) | tr ' ' ,)  \\\n",
    "--nodes:TAG    hdr-tag.csv,$(echo $(ls tag*) | tr ' ' ,)  \\\n",
    "--relationships:SIMILAR_TO  hdr-sim-a.csv,$(echo $(ls sim-a*) | tr ' ' ,)  \\\n",
    "--relationships:PERFORMS    hdr-perf.csv,$(echo $(ls perf*) | tr ' ' ,)  \\\n",
    "--relationships:HAS_ALBUM   hdr-has-album.csv,$(echo $(ls has-album*) | tr ' ' ,)  \\\n",
    "--relationships:HAS_TAG     hdr-a-has-tag.csv,$(echo $(ls a-has-tag*) | tr ' ' ,)  \\\n",
    "--relationships:IN_ALBUM    hdr-in-album.csv,$(echo $(ls in-album*) | tr ' ' ,)  \\\n",
    "--relationships:SIMILAR_TO  hdr-sim-s.csv,$(echo $(ls sim-s*) | tr ' ' ,)  \\\n",
    "--relationships:HAS_TAG     hdr-s-has-tag.csv,$(echo $(ls s-has-tag*) | tr ' ' ,)  \\\n",
    "--relationships:RELEASED_ON hdr-release.csv,$(echo $(ls release*) | tr ' ' ,) "
   ]
  },
  {
   "cell_type": "code",
   "execution_count": null,
   "metadata": {
    "collapsed": true
   },
   "outputs": [],
   "source": [
    "$NEO4J_HOME/bin/neo4j-import --into /graph/neo4j/data/testyear.db \\\n",
    "--skip-duplicate-nodes true --bad-tolerance 90000 \\\n",
    "--id-type string \\\n",
    "--nodes:Artist hdr-artist.csv,$(echo $(ls art*) | tr ' ' ,)"
   ]
  }
 ],
 "metadata": {
  "kernelspec": {
   "display_name": "Python 2",
   "language": "python",
   "name": "python2"
  },
  "language_info": {
   "codemirror_mode": {
    "name": "ipython",
    "version": 2
   },
   "file_extension": ".py",
   "mimetype": "text/x-python",
   "name": "python",
   "nbconvert_exporter": "python",
   "pygments_lexer": "ipython2",
   "version": "2.7.10"
  }
 },
 "nbformat": 4,
 "nbformat_minor": 0
}
