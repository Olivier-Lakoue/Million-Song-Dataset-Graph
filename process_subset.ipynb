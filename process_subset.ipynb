{
 "cells": [
  {
   "cell_type": "markdown",
   "metadata": {},
   "source": [
    "# Graph Model of the Million Song Dataset\n",
    "\n",
    "*Andrea Soto*  \n",
    "*MIDS W205 Final Project*"
   ]
  },
  {
   "cell_type": "markdown",
   "metadata": {},
   "source": [
    "# Download the Subset Data - 10,000 songs"
   ]
  },
  {
   "cell_type": "code",
   "execution_count": null,
   "metadata": {
    "collapsed": true
   },
   "outputs": [],
   "source": [
    "#Create a project directory\n",
    "!mkdir msd_project\n",
    "!cd msd_project"
   ]
  },
  {
   "cell_type": "code",
   "execution_count": 2,
   "metadata": {
    "collapsed": false
   },
   "outputs": [
    {
     "name": "stdout",
     "output_type": "stream",
     "text": [
      "Writing download_subsetdata.sh\n"
     ]
    }
   ],
   "source": [
    "%%writefile download_subsetdata.sh\n",
    "#!/usr/bin/env bash\n",
    "\n",
    "#Create a directory for the data\n",
    "mkdir data\n",
    "cd data\n",
    "\n",
    "# Download data subset of 10,000 songs, ~1GB to develop and test code\n",
    "wget http://static.echonest.com/millionsongsubset_full.tar.gz data_subset\n",
    "wait\n",
    "\n",
    "tar xvzf millionsongsubset_full.tar.gz\n",
    "wait\n",
    "\n",
    "# Download list of all artist ID \n",
    "# The format is: artist id<SEP>artist mbid<SEP>track id<SEP>artist name\n",
    "wget http://labrosa.ee.columbia.edu/millionsong/sites/default/files/AdditionalFiles/unique_artists.txt\n",
    "wait\n",
    "wc -l unique_artists.txt #44745 unique_artists.txt\n",
    "\n",
    "# Download list of all unique artist terms (Echo Nest tags) \n",
    "wget http://labrosa.ee.columbia.edu/millionsong/sites/default/files/AdditionalFiles/unique_terms.txt\n",
    "wait\n",
    "wc -l unique_terms.txt #7643 unique_terms.txt\n",
    "    \n",
    "# Download list of all unique artist musicbrainz tags\n",
    "wget http://labrosa.ee.columbia.edu/millionsong/sites/default/files/AdditionalFiles/unique_mbtags.txt\n",
    "wait\n",
    "wc -l unique_mbtags.txt #2321 unique_mbtags.txt\n",
    "\n",
    "cd .."
   ]
  },
  {
   "cell_type": "markdown",
   "metadata": {},
   "source": [
    "# Data Preparation"
   ]
  },
  {
   "cell_type": "markdown",
   "metadata": {},
   "source": [
    "The Million Song Dataset is stored in HDF5 files. The data was transformed into csv files which can then be used in Neo4j to create the nodes and relationships of the graph."
   ]
  },
  {
   "cell_type": "code",
   "execution_count": null,
   "metadata": {
    "collapsed": true
   },
   "outputs": [],
   "source": [
    "# List the files and store them in a separate .txt file\n",
    "import glob\n",
    "\n",
    "song_files = glob.glob('./data/MillionSongSubset/data/*/*/*/*.h5')\n",
    "list_file = './data/list_files.txt'\n",
    "\n",
    "with open(list_file,'w') as f:\n",
    "    f.writelines('\\n'.join(p for p in song_files))\n",
    "    f.close()"
   ]
  },
  {
   "cell_type": "markdown",
   "metadata": {},
   "source": [
    "Start Spark\n",
    "---"
   ]
  },
  {
   "cell_type": "code",
   "execution_count": 1,
   "metadata": {
    "collapsed": false
   },
   "outputs": [
    {
     "name": "stdout",
     "output_type": "stream",
     "text": [
      "Welcome to\n",
      "      ____              __\n",
      "     / __/__  ___ _____/ /__\n",
      "    _\\ \\/ _ \\/ _ `/ __/  '_/\n",
      "   /__ / .__/\\_,_/_/ /_/\\_\\   version 1.5.0\n",
      "      /_/\n",
      "\n",
      "Using Python version 2.7.10 (default, Oct 19 2015 18:04:42)\n",
      "SparkContext available as sc, HiveContext available as sqlContext.\n"
     ]
    }
   ],
   "source": [
    "import os\n",
    "import sys\n",
    "#Escape L for line numbers\n",
    "spark_home = os.environ['SPARK_HOME'] = '/data/spark15'\n",
    "if not spark_home:\n",
    "    raise ValueError('SPARK_HOME enviroment variable is not set')\n",
    "\n",
    "sys.path.insert(0,os.path.join(spark_home,'python'))\n",
    "sys.path.insert(0,os.path.join(spark_home,'python/lib/py4j-0.8.2.1-src.zip'))\n",
    "execfile(os.path.join(spark_home,'python/pyspark/shell.py'))"
   ]
  },
  {
   "cell_type": "code",
   "execution_count": null,
   "metadata": {
    "collapsed": false
   },
   "outputs": [],
   "source": [
    "sc"
   ]
  },
  {
   "cell_type": "code",
   "execution_count": 2,
   "metadata": {
    "collapsed": true
   },
   "outputs": [],
   "source": [
    "file_paths = sc.textFile('file:///data/asoto/projectW205/data/list_files.txt')"
   ]
  },
  {
   "cell_type": "code",
   "execution_count": 3,
   "metadata": {
    "collapsed": false
   },
   "outputs": [
    {
     "data": {
      "text/plain": [
       "[u'./data/MillionSongSubset/data/B/B/O/TRBBOPX12903D106F7.h5',\n",
       " u'./data/MillionSongSubset/data/B/B/O/TRBBOKQ128F933AE7C.h5',\n",
       " u'./data/MillionSongSubset/data/B/B/O/TRBBOPV12903CFB50F.h5']"
      ]
     },
     "execution_count": 3,
     "metadata": {},
     "output_type": "execute_result"
    }
   ],
   "source": [
    "file_paths.take(3)"
   ]
  },
  {
   "cell_type": "code",
   "execution_count": 13,
   "metadata": {
    "collapsed": true
   },
   "outputs": [],
   "source": [
    "import h5py\n",
    "import numpy as np\n",
    "\n",
    "def get_h5_info(path):\n",
    "    d = {}\n",
    "    with h5py.File(path, 'r') as f:\n",
    "        # --- Artist Info -----------------------------\n",
    "        d.setdefault('artist_id', f['metadata']['songs']['artist_id'][0])\n",
    "        d.setdefault('artist_mbid', f['metadata']['songs']['artist_mbid'][0])\n",
    "        d.setdefault('artist_7did', f['metadata']['songs']['artist_7digitalid'][0])\n",
    "        d.setdefault('artist_name', f['metadata']['songs']['artist_name'][0])\n",
    "        \n",
    "        # --- Song Info -----------------------------\n",
    "        d.setdefault('song_id', f['metadata']['songs']['song_id'][0])\n",
    "        d.setdefault('track_id', f['analysis']['songs']['track_id'][0])\n",
    "        d.setdefault('title', f['metadata']['songs']['title'][0])\n",
    "        d.setdefault('dance', f['analysis']['songs']['danceability'][0])\n",
    "        d.setdefault('dur', f['analysis']['songs']['duration'][0])\n",
    "        d.setdefault('energy', f['analysis']['songs']['energy'][0])\n",
    "        d.setdefault('loudness', f['analysis']['songs']['loudness'][0])\n",
    "        \n",
    "        # --- Year -----------------------------\n",
    "        d.setdefault('year', f['musicbrainz']['songs']['year'][0])\n",
    "        \n",
    "        # --- Album -----------------------------\n",
    "        d.setdefault('album', f['metadata']['songs']['release'][0])\n",
    "        \n",
    "        # --- Similar Artist -----------------------------\n",
    "        d.setdefault('a_similar', np.array(f['metadata']['similar_artists']))\n",
    "        \n",
    "        # --- Artist Terms -----------------------------\n",
    "        d.setdefault('a_terms', np.array(f['metadata']['artist_terms']))\n",
    "        d.setdefault('a_tfrq', np.array(f['metadata']['artist_terms_freq']))\n",
    "        d.setdefault('a_tw', np.array(f['metadata']['artist_terms_weight']))\n",
    "        \n",
    "        return d"
   ]
  },
  {
   "cell_type": "code",
   "execution_count": 14,
   "metadata": {
    "collapsed": false,
    "scrolled": false
   },
   "outputs": [
    {
     "data": {
      "text/plain": [
       "[{'a_similar': array(['ARRGFFD1187B9AF330', 'ARIVAXF122BCFCACF3', 'AR6LT5K1187FB562A9',\n",
       "         'ARI8PQM1187B99577F', 'ARHYS6D1187FB5BBA4', 'AR1XPEO1187B9B560E',\n",
       "         'AREUFRU1187FB49BEF', 'AR41E9U1187FB5573B', 'AR6AD5N1187FB52F22',\n",
       "         'ARCF9FU119B866967B', 'ARBVIM21187FB520A2', 'ARISRD71187FB57AE8',\n",
       "         'ARAMB6Q1187B99DE68', 'ARE3JFT1187FB589B6', 'ARJMAW61187B9A6148',\n",
       "         'ARP6QCL1187FB36142', 'ARJ41O41187B9A0F53', 'AR1P7OW1187FB5B3E1',\n",
       "         'ARVMRVW1187FB392FF', 'ARA8DDQ1187B9AE3A0', 'AR3QE2N1187FB588CA',\n",
       "         'AROF8OV1187FB55B85', 'AR9JJ761187B9AF496', 'ARWCIR91187FB55D30',\n",
       "         'ARXWXEB1187B9A8592', 'AR0WGKH11C8A414A0F', 'ARJ8S571187FB4550A',\n",
       "         'ARWY36G11A348EFDFC', 'AR5SZEA1187B9BA0AA', 'ARPFC0M1187B9B969D',\n",
       "         'ARAEZVZ1187FB573A8', 'AR52O1K1187FB4C98D', 'ARDEOJT1187B990229',\n",
       "         'ARKWACN11A348F0476', 'ARL26PR1187FB576E5', 'ARE3RNX1187B9ADD8B',\n",
       "         'AROLJZM1187B994C58', 'ARXOPQ911C8A41568B', 'ARAFF5A1187FB56142',\n",
       "         'ARJWW0V1187B9B6886', 'ARCYK3E1187FB542DC', 'ARBO7VC1187FB4222C',\n",
       "         'ARK0SQJ1187B9942CF', 'ARV5WFJ1187B989B3C', 'ARGZ6ZJ1187B997EE1',\n",
       "         'AR5UA0T1187B9A6773', 'ARSBQOU1187FB4DABF', 'ARPAMQ61187B98CE49',\n",
       "         'ARAFQRJ1187FB49CFB', 'ARZXQIQ1241B9C467B', 'ARZBDBS11F4C847F7E',\n",
       "         'AROCMBL11E2835D601', 'ARBRL2P1187B9AF9E4', 'AR44JUQ1187B98FD6D',\n",
       "         'AR67UCD1187B9B1585', 'ARR2TI31187FB380FE', 'AR3J0BE119B866925A',\n",
       "         'AR2UOIC1187FB3CFB8', 'ARS0W831187B9AF0B7', 'AR5MOHS1187B9B5F41',\n",
       "         'ARHUCDJ1187B9A3697', 'ARW27YL1187B9B6AE2', 'ARL69431187FB4CD2F',\n",
       "         'ARVWLC11187FB56F36', 'ARJ3Z7E1187B994711', 'AR5OYUJ1187FB38DE9',\n",
       "         'ARSZUJB1187FB440C0', 'AROQCSJ11F4C847A75', 'ARFQEQQ124BAE72E24',\n",
       "         'ARNJ7441187B999AFD', 'ARTOFZO1187B9AF7FA', 'ARF4PL81187B989B34',\n",
       "         'ARS7W7E1187B9A9D03', 'ARB7V4S1187B99E979', 'ARN2JDN1187FB54F7D',\n",
       "         'ARNPOGM1187FB53970', 'AR6NRQI1187FB37544', 'ARNJXVD1187FB4B37D',\n",
       "         'ARIGLET11F91D36076', 'ARGWIHH1187B9A79B0', 'ARQUDHR1269FCD5EC4',\n",
       "         'ARWKIZS12298900133', 'ARW5IRV1187B99C28A', 'ARSNAAQ122BCFCB0DC',\n",
       "         'ARSFHIQ1187B9B6AE0', 'ARK24KH1187B9B6B93', 'AR1F3IJ1187B9980B4',\n",
       "         'ARIVKUW1241B9C8BC1', 'ARZJ8DO1187FB41CD5', 'ARVEVG51187B9B4E8A',\n",
       "         'ARIGGCC11C8A415404', 'ARZLSHC1187B99CDC4', 'AR21JVF1187B994846',\n",
       "         'ARRZTHE1274363C3F3', 'ARWIEIE11F4C83F267', 'ARR1QOR1187FB5B2AF',\n",
       "         'AR8UFNT1187B9A3801', 'ARTEGNK1187FB554BC', 'ARAZ9QJ1187B98C413',\n",
       "         'ARCYJTW11F4C840F74'], \n",
       "        dtype='|S20'),\n",
       "  'a_terms': array(['twee pop', 'cantonese pop', 'chill-out', 'indie pop', 'dream pop',\n",
       "         'post rock', 'rock', 'pop', 'intelligent dance music', 'emo',\n",
       "         'female vocalist', 'alternative rock', 'indie rock', 'electronica',\n",
       "         'twee', 'indie', 'chinese', 'electronic', '60s rock', 'hong kong',\n",
       "         'ambient', 'japanese', 'lo-fi', 'female', 'mellow', 'noise',\n",
       "         'relax', 'synth', 'dreamy', '60s pop', 'synthpop', 'cantonese',\n",
       "         'taiwan', 'cpop', 'warm', 'china', 'indietronica'], \n",
       "        dtype='|S256'),\n",
       "  'a_tfrq': array([ 1.        ,  0.80939183,  0.80939183,  0.93880319,  0.80976085,\n",
       "          0.80939183,  1.        ,  0.92149978,  0.66476824,  0.80939183,\n",
       "          0.75274097,  0.80939183,  0.80939183,  0.80939183,  0.61995369,\n",
       "          0.81792323,  0.55390212,  0.80031268,  0.50639092,  0.49098705,\n",
       "          0.68874867,  0.64302675,  0.57113689,  0.61033823,  0.57695483,\n",
       "          0.61318464,  0.52027211,  0.51814527,  0.49359934,  0.4377939 ,\n",
       "          0.53447201,  0.40327279,  0.39850275,  0.38231346,  0.38010229,\n",
       "          0.36834221,  0.3808469 ]),\n",
       "  'a_tw': array([ 1.        ,  0.85696653,  0.85696653,  0.83246706,  0.82722359,\n",
       "          0.79848128,  0.78009774,  0.75040577,  0.74844015,  0.74058383,\n",
       "          0.71473443,  0.71099087,  0.70245568,  0.68665812,  0.682504  ,\n",
       "          0.6669152 ,  0.66524557,  0.64493967,  0.62959289,  0.61803374,\n",
       "          0.60737211,  0.60737148,  0.60737135,  0.60736906,  0.60736848,\n",
       "          0.60736455,  0.60734521,  0.60734473,  0.60733918,  0.5781173 ,\n",
       "          0.57215479,  0.55221246,  0.54863299,  0.53648446,  0.53482518,\n",
       "          0.52600035,  0.51734149]),\n",
       "  'album': 'Zoo Is Sad_ People Are Cruel',\n",
       "  'artist_7did': 219434,\n",
       "  'artist_id': 'ARAO0RA1187FB587F2',\n",
       "  'artist_mbid': 'ea6185ea-0138-4b8c-a81a-e8fb90d7c680',\n",
       "  'artist_name': 'My Little Airport',\n",
       "  'dance': 0.0,\n",
       "  'dur': 125.70077000000001,\n",
       "  'energy': 0.0,\n",
       "  'loudness': -9.3610000000000007,\n",
       "  'song_id': 'SOFFUHF12AC4689476',\n",
       "  'title': 'Leo_ Are You Still Jumping Out Of Windows In Expensive Clothes?',\n",
       "  'track_id': 'TRBBOPX12903D106F7',\n",
       "  'year': 0}]"
      ]
     },
     "execution_count": 14,
     "metadata": {},
     "output_type": "execute_result"
    }
   ],
   "source": [
    "dics = file_paths.map(get_h5_info)\n",
    "dics.take(1)"
   ]
  },
  {
   "cell_type": "code",
   "execution_count": 1,
   "metadata": {
    "collapsed": false
   },
   "outputs": [],
   "source": [
    "import time"
   ]
  },
  {
   "cell_type": "code",
   "execution_count": 2,
   "metadata": {
    "collapsed": true
   },
   "outputs": [],
   "source": [
    "t1 = time.time()"
   ]
  },
  {
   "cell_type": "code",
   "execution_count": 3,
   "metadata": {
    "collapsed": true
   },
   "outputs": [],
   "source": [
    "t2 = time.time()"
   ]
  },
  {
   "cell_type": "code",
   "execution_count": 12,
   "metadata": {
    "collapsed": false
   },
   "outputs": [
    {
     "name": "stdout",
     "output_type": "stream",
     "text": [
      "Overwriting test_code/count_h5.py\n"
     ]
    }
   ],
   "source": [
    "%%writefile test_code/count_h5.py\n",
    "#!/usr/bin/env python\n",
    "from pyspark import SparkContext\n",
    "import time\n",
    "import h5py\n",
    "\n",
    "def read_h5_file(path):\n",
    "    with h5py.File(path, 'r') as f:\n",
    "        return f['metadata']['songs']['title'][0]\n",
    "#Start Time\n",
    "t1 = time.time()\n",
    "\n",
    "# --- Process files ----\n",
    "sc = SparkContext(appName=\"SparkHDF5\")\n",
    "file_paths = sc.textFile('file:///data/asoto/projectW205/data/list_files.txt')\n",
    "\n",
    "songs = file_paths.map(read_h5_file)\n",
    "songs.count()\n",
    "# ----------------------\n",
    "\n",
    "#End Time\n",
    "t2 = time.time()\n",
    "sec = t2-t1\n",
    "\n",
    "print \"Time: %0.2f sec = %.2f min = %.2f h\"%(sec,sec/60.0,sec/1440.0)\n",
    "sc.stop()"
   ]
  },
  {
   "cell_type": "code",
   "execution_count": null,
   "metadata": {
    "collapsed": false,
    "scrolled": false
   },
   "outputs": [
    {
     "name": "stdout",
     "output_type": "stream",
     "text": [
      "15/11/29 07:08:53 INFO spark.SparkContext: Running Spark version 1.3.0\n",
      "15/11/29 07:08:53 INFO spark.SecurityManager: Changing view acls to: asoto\n",
      "15/11/29 07:08:53 INFO spark.SecurityManager: Changing modify acls to: asoto\n",
      "15/11/29 07:08:53 INFO spark.SecurityManager: SecurityManager: authentication disabled; ui acls disabled; users with view permissions: Set(asoto); users with modify permissions: Set(asoto)\n",
      "15/11/29 07:08:54 INFO slf4j.Slf4jLogger: Slf4jLogger started\n",
      "15/11/29 07:08:54 INFO Remoting: Starting remoting\n",
      "15/11/29 07:08:54 INFO Remoting: Remoting started; listening on addresses :[akka.tcp://sparkDriver@ip-10-149-10-206.ec2.internal:60992]\n",
      "15/11/29 07:08:54 INFO Remoting: Remoting now listens on addresses: [akka.tcp://sparkDriver@ip-10-149-10-206.ec2.internal:60992]\n",
      "15/11/29 07:08:54 INFO util.Utils: Successfully started service 'sparkDriver' on port 60992.\n",
      "15/11/29 07:08:54 INFO spark.SparkEnv: Registering MapOutputTracker\n",
      "15/11/29 07:08:54 INFO spark.SparkEnv: Registering BlockManagerMaster\n",
      "15/11/29 07:08:54 INFO storage.DiskBlockManager: Created local directory at /tmp/spark-badb9c72-0cf3-469b-bac0-9b737bc8a64e/blockmgr-8ff7ef2f-2c33-49a2-94fd-3036598da18f\n",
      "15/11/29 07:08:54 INFO storage.MemoryStore: MemoryStore started with capacity 265.4 MB\n",
      "15/11/29 07:08:54 INFO spark.HttpFileServer: HTTP File server directory is /tmp/spark-b67ff058-6aad-4558-92c3-04abfbd32603/httpd-d0653ea5-039b-4568-86b6-7e75736c72ee\n",
      "15/11/29 07:08:54 INFO spark.HttpServer: Starting HTTP Server\n",
      "15/11/29 07:08:54 INFO server.Server: jetty-8.y.z-SNAPSHOT\n",
      "15/11/29 07:08:54 INFO server.AbstractConnector: Started SocketConnector@0.0.0.0:54170\n",
      "15/11/29 07:08:54 INFO util.Utils: Successfully started service 'HTTP file server' on port 54170.\n",
      "15/11/29 07:08:54 INFO spark.SparkEnv: Registering OutputCommitCoordinator\n",
      "15/11/29 07:08:54 INFO server.Server: jetty-8.y.z-SNAPSHOT\n",
      "15/11/29 07:08:54 INFO server.AbstractConnector: Started SelectChannelConnector@0.0.0.0:4040\n",
      "15/11/29 07:08:54 INFO util.Utils: Successfully started service 'SparkUI' on port 4040.\n",
      "15/11/29 07:08:54 INFO ui.SparkUI: Started SparkUI at http://ip-10-149-10-206.ec2.internal:4040\n",
      "15/11/29 07:08:54 INFO util.Utils: Copying /data/asoto/projectW205/test_code/count_h5.py to /tmp/spark-51519a1b-a3bb-4cab-8661-87ddb6129223/userFiles-61316a33-874d-43e9-b8cc-0fd3e27f7cff/count_h5.py\n",
      "15/11/29 07:08:54 INFO spark.SparkContext: Added file file:/data/asoto/projectW205/test_code/count_h5.py at file:/data/asoto/projectW205/test_code/count_h5.py with timestamp 1448780934952\n",
      "15/11/29 07:08:55 INFO executor.Executor: Starting executor ID <driver> on host localhost\n",
      "15/11/29 07:08:55 INFO util.AkkaUtils: Connecting to HeartbeatReceiver: akka.tcp://sparkDriver@ip-10-149-10-206.ec2.internal:60992/user/HeartbeatReceiver\n",
      "15/11/29 07:08:55 INFO netty.NettyBlockTransferService: Server created on 59005\n",
      "15/11/29 07:08:55 INFO storage.BlockManagerMaster: Trying to register BlockManager\n",
      "15/11/29 07:08:55 INFO storage.BlockManagerMasterActor: Registering block manager localhost:59005 with 265.4 MB RAM, BlockManagerId(<driver>, localhost, 59005)\n",
      "15/11/29 07:08:55 INFO storage.BlockManagerMaster: Registered BlockManager\n",
      "15/11/29 07:08:55 INFO storage.MemoryStore: ensureFreeSpace(277011) called with curMem=0, maxMem=278302556\n",
      "15/11/29 07:08:55 INFO storage.MemoryStore: Block broadcast_0 stored as values in memory (estimated size 270.5 KB, free 265.1 MB)\n",
      "15/11/29 07:08:55 INFO storage.MemoryStore: ensureFreeSpace(21084) called with curMem=277011, maxMem=278302556\n",
      "15/11/29 07:08:55 INFO storage.MemoryStore: Block broadcast_0_piece0 stored as bytes in memory (estimated size 20.6 KB, free 265.1 MB)\n",
      "15/11/29 07:08:55 INFO storage.BlockManagerInfo: Added broadcast_0_piece0 in memory on localhost:59005 (size: 20.6 KB, free: 265.4 MB)\n",
      "15/11/29 07:08:55 INFO storage.BlockManagerMaster: Updated info of block broadcast_0_piece0\n",
      "15/11/29 07:08:55 INFO spark.SparkContext: Created broadcast 0 from textFile at NativeMethodAccessorImpl.java:-2\n",
      "15/11/29 07:08:56 INFO mapred.FileInputFormat: Total input paths to process : 1\n",
      "15/11/29 07:08:56 INFO spark.SparkContext: Starting job: count at /data/asoto/projectW205/test_code/count_h5.py:15\n",
      "15/11/29 07:08:56 INFO scheduler.DAGScheduler: Got job 0 (count at /data/asoto/projectW205/test_code/count_h5.py:15) with 2 output partitions (allowLocal=false)\n",
      "15/11/29 07:08:56 INFO scheduler.DAGScheduler: Final stage: Stage 0(count at /data/asoto/projectW205/test_code/count_h5.py:15)\n",
      "15/11/29 07:08:56 INFO scheduler.DAGScheduler: Parents of final stage: List()\n",
      "15/11/29 07:08:56 INFO scheduler.DAGScheduler: Missing parents: List()\n",
      "15/11/29 07:08:56 INFO scheduler.DAGScheduler: Submitting Stage 0 (PythonRDD[2] at count at /data/asoto/projectW205/test_code/count_h5.py:15), which has no missing parents\n",
      "15/11/29 07:08:56 INFO storage.MemoryStore: ensureFreeSpace(5968) called with curMem=298095, maxMem=278302556\n",
      "15/11/29 07:08:56 INFO storage.MemoryStore: Block broadcast_1 stored as values in memory (estimated size 5.8 KB, free 265.1 MB)\n",
      "15/11/29 07:08:56 INFO storage.MemoryStore: ensureFreeSpace(3840) called with curMem=304063, maxMem=278302556\n",
      "15/11/29 07:08:56 INFO storage.MemoryStore: Block broadcast_1_piece0 stored as bytes in memory (estimated size 3.8 KB, free 265.1 MB)\n",
      "15/11/29 07:08:56 INFO storage.BlockManagerInfo: Added broadcast_1_piece0 in memory on localhost:59005 (size: 3.8 KB, free: 265.4 MB)\n",
      "15/11/29 07:08:56 INFO storage.BlockManagerMaster: Updated info of block broadcast_1_piece0\n",
      "15/11/29 07:08:56 INFO spark.SparkContext: Created broadcast 1 from broadcast at DAGScheduler.scala:839\n",
      "15/11/29 07:08:56 INFO scheduler.DAGScheduler: Submitting 2 missing tasks from Stage 0 (PythonRDD[2] at count at /data/asoto/projectW205/test_code/count_h5.py:15)\n",
      "15/11/29 07:08:56 INFO scheduler.TaskSchedulerImpl: Adding task set 0.0 with 2 tasks\n",
      "15/11/29 07:08:56 INFO scheduler.TaskSetManager: Starting task 0.0 in stage 0.0 (TID 0, localhost, PROCESS_LOCAL, 1372 bytes)\n",
      "15/11/29 07:08:56 INFO scheduler.TaskSetManager: Starting task 1.0 in stage 0.0 (TID 1, localhost, PROCESS_LOCAL, 1372 bytes)\n",
      "15/11/29 07:08:56 INFO executor.Executor: Running task 1.0 in stage 0.0 (TID 1)\n",
      "15/11/29 07:08:56 INFO executor.Executor: Running task 0.0 in stage 0.0 (TID 0)\n",
      "15/11/29 07:08:56 INFO executor.Executor: Fetching file:/data/asoto/projectW205/test_code/count_h5.py with timestamp 1448780934952\n",
      "15/11/29 07:08:56 INFO util.Utils: /data/asoto/projectW205/test_code/count_h5.py has been previously copied to /tmp/spark-51519a1b-a3bb-4cab-8661-87ddb6129223/userFiles-61316a33-874d-43e9-b8cc-0fd3e27f7cff/count_h5.py\n",
      "15/11/29 07:08:57 INFO rdd.HadoopRDD: Input split: file:/data/asoto/projectW205/data/list_files.txt:0+289999\n",
      "15/11/29 07:08:57 INFO Configuration.deprecation: mapred.tip.id is deprecated. Instead, use mapreduce.task.id\n",
      "15/11/29 07:08:57 INFO Configuration.deprecation: mapred.task.id is deprecated. Instead, use mapreduce.task.attempt.id\n",
      "15/11/29 07:08:57 INFO Configuration.deprecation: mapred.task.is.map is deprecated. Instead, use mapreduce.task.ismap\n",
      "15/11/29 07:08:57 INFO Configuration.deprecation: mapred.task.partition is deprecated. Instead, use mapreduce.task.partition\n",
      "15/11/29 07:08:57 INFO Configuration.deprecation: mapred.job.id is deprecated. Instead, use mapreduce.job.id\n",
      "15/11/29 07:08:57 INFO rdd.HadoopRDD: Input split: file:/data/asoto/projectW205/data/list_files.txt:289999+290000\n"
     ]
    }
   ],
   "source": [
    "!spark-submit test_code/count_h5.py"
   ]
  },
  {
   "cell_type": "code",
   "execution_count": null,
   "metadata": {
    "collapsed": true
   },
   "outputs": [],
   "source": []
  }
 ],
 "metadata": {
  "kernelspec": {
   "display_name": "Python 2",
   "language": "python",
   "name": "python2"
  },
  "language_info": {
   "codemirror_mode": {
    "name": "ipython",
    "version": 2
   },
   "file_extension": ".py",
   "mimetype": "text/x-python",
   "name": "python",
   "nbconvert_exporter": "python",
   "pygments_lexer": "ipython2",
   "version": "2.7.10"
  }
 },
 "nbformat": 4,
 "nbformat_minor": 0
}
