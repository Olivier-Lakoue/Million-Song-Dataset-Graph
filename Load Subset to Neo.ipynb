{
 "cells": [
  {
   "cell_type": "code",
   "execution_count": null,
   "metadata": {
    "collapsed": true
   },
   "outputs": [],
   "source": [
    "USING PERIODIC COMMIT 1000\n",
    "LOAD CSV WITH HEADERS FROM \"file:/Users/markneedham/projects/neo4j-northwind/data/customerDb.csv\" AS row\n",
    "MERGE (employee:Employee {employeeId: row.EmployeeID})\n",
    "MERGE (order:Order {orderId: row.OrderID})\n",
    "MERGE (employee)-[:SOLD]->(order)"
   ]
  },
  {
   "cell_type": "code",
   "execution_count": null,
   "metadata": {
    "collapsed": true
   },
   "outputs": [],
   "source": [
    "LOAD CSV FROM \"file:///data/asoto/projectW205/data/MillionSongSubset/graph/nodes_artists.csv\" AS line\n",
    "WITH line LIMIT 1 RETURN 1"
   ]
  },
  {
   "cell_type": "code",
   "execution_count": null,
   "metadata": {
    "collapsed": true
   },
   "outputs": [],
   "source": [
    "// This is a comment in cypher\n",
    "CREATE CONSTRAINT ON (a:ARTIST) ASSERT a.id IS UNIQUE;\n",
    "CREATE CONSTRAINT ON (s:SONG) ASSERT s.id IS UNIQUE;\n",
    "CREATE CONSTRAINT ON (y:YEAR) ASSERT y.year IS UNIQUE;\n",
    "CREATE CONSTRAINT ON (t:TAG) ASSERT t.tag IS UNIQUE;\n",
    "CREATE CONSTRAINT ON (a:ALBUM) ASSERT a.name IS UNIQUE;"
   ]
  },
  {
   "cell_type": "markdown",
   "metadata": {},
   "source": [
    "# Start Here"
   ]
  },
  {
   "cell_type": "code",
   "execution_count": 1,
   "metadata": {
    "collapsed": true
   },
   "outputs": [],
   "source": [
    "from py2neo import Graph\n",
    "from py2neo import authenticate\n",
    "import os"
   ]
  },
  {
   "cell_type": "code",
   "execution_count": 2,
   "metadata": {
    "collapsed": false
   },
   "outputs": [
    {
     "data": {
      "text/plain": [
       "'ec2-54-90-132-249.compute-1.amazonaws.com'"
      ]
     },
     "execution_count": 2,
     "metadata": {},
     "output_type": "execute_result"
    }
   ],
   "source": [
    "os.environ['INSTANCE_PDNS']"
   ]
  },
  {
   "cell_type": "code",
   "execution_count": 4,
   "metadata": {
    "collapsed": false
   },
   "outputs": [
    {
     "data": {
      "text/plain": [
       "'/home/asoto'"
      ]
     },
     "execution_count": 4,
     "metadata": {},
     "output_type": "execute_result"
    }
   ],
   "source": [
    "os.environ['HOME']"
   ]
  },
  {
   "cell_type": "code",
   "execution_count": 4,
   "metadata": {
    "collapsed": false
   },
   "outputs": [
    {
     "data": {
      "text/plain": [
       "'http://ec2-54-90-132-249.compute-1.amazonaws.com:7474/db/data/'"
      ]
     },
     "execution_count": 4,
     "metadata": {},
     "output_type": "execute_result"
    }
   ],
   "source": [
    "\"http://\"+pdns+\":7474/db/data/\""
   ]
  },
  {
   "cell_type": "code",
   "execution_count": 5,
   "metadata": {
    "collapsed": false
   },
   "outputs": [
    {
     "data": {
      "text/plain": [
       "'/data/asoto/projectW205'"
      ]
     },
     "execution_count": 5,
     "metadata": {},
     "output_type": "execute_result"
    }
   ],
   "source": [
    "os.getcwd()"
   ]
  },
  {
   "cell_type": "code",
   "execution_count": 3,
   "metadata": {
    "collapsed": true
   },
   "outputs": [],
   "source": [
    "# set up authentication parameters\n",
    "pdns = os.environ['INSTANCE_PDNS']\n",
    "#authenticate(\"ec2-54-90-132-249.compute-1.amazonaws.com:7474\", \"neo4j\", \"neo\")\n",
    "\n",
    "# connect to authenticated graph database\n",
    "graph = Graph(\"http://\"+pdns+\":7474/db/data/\")"
   ]
  },
  {
   "cell_type": "code",
   "execution_count": 11,
   "metadata": {
    "collapsed": false
   },
   "outputs": [],
   "source": [
    "unique_constraints = [('ARTIST', 'id'),('SONG','id'),('ALBUM','name'),('TAG','tag'),('YEAR','year')]\n",
    "\n",
    "for label,prop in unique_constraints:\n",
    "    try:\n",
    "        graph.schema.create_uniqueness_constraint(label, prop)\n",
    "    except:\n",
    "        pass"
   ]
  },
  {
   "cell_type": "code",
   "execution_count": 37,
   "metadata": {
    "collapsed": false
   },
   "outputs": [
    {
     "data": {
      "text/plain": []
     },
     "execution_count": 37,
     "metadata": {},
     "output_type": "execute_result"
    }
   ],
   "source": [
    "# Artists\n",
    "csv_path = 'file:' + os.getcwd() + '/data/MillionSongSubset/graph/nodes_artists.csv'\n",
    "\n",
    "tx = graph.cypher.begin()\n",
    "\n",
    "st = \"USING PERIODIC COMMIT 1000 \"\n",
    "st += 'LOAD CSV WITH HEADERS FROM \"' + csv_path + '\" AS line '\n",
    "st += \"MERGE (a:ARTIST {id:line.id}) \"\n",
    "st += \"ON CREATE SET a.idmb=line.mbid, a.id7d=line.id7d, a.name=lower(line.name);\"\n",
    "\n",
    "tx.append(st)\n",
    "tx.commit()"
   ]
  },
  {
   "cell_type": "code",
   "execution_count": 38,
   "metadata": {
    "collapsed": false
   },
   "outputs": [
    {
     "data": {
      "text/plain": []
     },
     "execution_count": 38,
     "metadata": {},
     "output_type": "execute_result"
    }
   ],
   "source": [
    "# Songs\n",
    "csv_path = 'file:' + os.getcwd() + '/data/MillionSongSubset/graph/nodes_songs.csv'\n",
    "\n",
    "tx = graph.cypher.begin()\n",
    "\n",
    "st = \"USING PERIODIC COMMIT 1000 \"\n",
    "st += 'LOAD CSV WITH HEADERS FROM \"' + csv_path + '\" AS line '\n",
    "st += \"MERGE (s:SONG {id:line.id}) \"\n",
    "st += \"ON CREATE SET s.tackid=line.trackid, s.title=lower(line.name), s.danceability=TOFLOAT(line.dance),\"\n",
    "st += \"s.duration = TOFLOAT(line.dur), s.energy= TOFLOAT(line.energy), s.loudness = TOFLOAT(line.loudness);\"\n",
    "\n",
    "tx.append(st)\n",
    "tx.commit()"
   ]
  },
  {
   "cell_type": "code",
   "execution_count": 39,
   "metadata": {
    "collapsed": false
   },
   "outputs": [
    {
     "data": {
      "text/plain": []
     },
     "execution_count": 39,
     "metadata": {},
     "output_type": "execute_result"
    }
   ],
   "source": [
    "# Albums\n",
    "csv_path = 'file:' + os.getcwd() + '/data/MillionSongSubset/graph/nodes_albums.csv'\n",
    "\n",
    "tx = graph.cypher.begin()\n",
    "\n",
    "st = \"USING PERIODIC COMMIT 1000 \"\n",
    "st += 'LOAD CSV WITH HEADERS FROM \"' + csv_path + '\" AS line '\n",
    "st += \"MERGE (a:ALBUM {name: lower(line.name)});\"\n",
    "\n",
    "tx.append(st)\n",
    "tx.commit()"
   ]
  },
  {
   "cell_type": "code",
   "execution_count": 49,
   "metadata": {
    "collapsed": false
   },
   "outputs": [
    {
     "data": {
      "text/plain": []
     },
     "execution_count": 49,
     "metadata": {},
     "output_type": "execute_result"
    }
   ],
   "source": [
    "# Tags\n",
    "csv_path = 'file:' + os.getcwd() + '/data/MillionSongSubset/graph/nodes_tags.csv'\n",
    "\n",
    "tx = graph.cypher.begin()\n",
    "\n",
    "st = \"USING PERIODIC COMMIT 1000 \"\n",
    "st += 'LOAD CSV WITH HEADERS FROM \"' + csv_path + '\" AS line '\n",
    "st += \"MERGE (:TAG {tag: lower(line.tag)});\"\n",
    "\n",
    "tx.append(st)\n",
    "tx.commit()"
   ]
  },
  {
   "cell_type": "code",
   "execution_count": 45,
   "metadata": {
    "collapsed": false
   },
   "outputs": [
    {
     "data": {
      "text/plain": []
     },
     "execution_count": 45,
     "metadata": {},
     "output_type": "execute_result"
    }
   ],
   "source": [
    "# Year\n",
    "csv_path = 'file:' + os.getcwd() + '/data/MillionSongSubset/graph/nodes_years.csv'\n",
    "\n",
    "tx = graph.cypher.begin()\n",
    "\n",
    "st = \"USING PERIODIC COMMIT 1000 \"\n",
    "st += 'LOAD CSV WITH HEADERS FROM \"' + csv_path + '\" AS line '\n",
    "st += \"MERGE (y:YEAR {year: TOINT(line.year)});\"\n",
    "\n",
    "tx.append(st)\n",
    "tx.commit()"
   ]
  },
  {
   "cell_type": "markdown",
   "metadata": {},
   "source": [
    "### Relationships"
   ]
  },
  {
   "cell_type": "code",
   "execution_count": 51,
   "metadata": {
    "collapsed": false
   },
   "outputs": [
    {
     "data": {
      "text/plain": []
     },
     "execution_count": 51,
     "metadata": {},
     "output_type": "execute_result"
    }
   ],
   "source": [
    "# (ARTIST)-[SIMILAR_TO]-> (ARTIST)\n",
    "csv_path = 'file:' + os.getcwd() + '/data/MillionSongSubset/graph/rel_similar_artists.csv'\n",
    "\n",
    "tx = graph.cypher.begin()\n",
    "\n",
    "st = \"USING PERIODIC COMMIT 1000 \"\n",
    "st += 'LOAD CSV WITH HEADERS FROM \"' + csv_path + '\" AS line '\n",
    "st += \"MATCH (from:ARTIST {id:line.from}) \"\n",
    "st += 'MATCH (to:ARTIST {id:line.to})'\n",
    "st += 'MERGE (from)-[:SIMILAR_TO]->(to)'\n",
    "\n",
    "tx.append(st)\n",
    "tx.commit()"
   ]
  },
  {
   "cell_type": "code",
   "execution_count": 52,
   "metadata": {
    "collapsed": false
   },
   "outputs": [
    {
     "data": {
      "text/plain": []
     },
     "execution_count": 52,
     "metadata": {},
     "output_type": "execute_result"
    }
   ],
   "source": [
    "# (ARTIST)-[PERFORMS]-> (SONG)\n",
    "csv_path = 'file:' + os.getcwd() + '/data/MillionSongSubset/graph/rel_performs.csv'\n",
    "\n",
    "tx = graph.cypher.begin()\n",
    "\n",
    "st = \"USING PERIODIC COMMIT 1000 \"\n",
    "st += 'LOAD CSV WITH HEADERS FROM \"' + csv_path + '\" AS line '\n",
    "st += \"MATCH (a:ARTIST {id:line.artist}) \"\n",
    "st += 'MATCH (s:SONG {id:line.song})'\n",
    "st += 'MERGE (a)-[:PERFORMS]->(s)'\n",
    "\n",
    "tx.append(st)\n",
    "tx.commit()"
   ]
  },
  {
   "cell_type": "code",
   "execution_count": 12,
   "metadata": {
    "collapsed": false
   },
   "outputs": [
    {
     "data": {
      "text/plain": []
     },
     "execution_count": 12,
     "metadata": {},
     "output_type": "execute_result"
    }
   ],
   "source": [
    "# (ARTIST)-[HAS_ALBUM]-> (ALBUM)\n",
    "csv_path = 'file:' + os.getcwd() + '/data/MillionSongSubset/graph/rel_artist_has_album.csv'\n",
    "\n",
    "tx = graph.cypher.begin()\n",
    "\n",
    "st = \"USING PERIODIC COMMIT 1000 \"\n",
    "st += 'LOAD CSV WITH HEADERS FROM \"' + csv_path + '\" AS line '\n",
    "st += \"MATCH (a:ARTIST {id:line.artistId}) \"\n",
    "st += 'MATCH (m:ALBUM {name:lower(line.album)})'\n",
    "st += 'MERGE (a)-[:HAS_ALBUM]->(m);'\n",
    "\n",
    "tx.append(st)\n",
    "tx.commit()"
   ]
  },
  {
   "cell_type": "code",
   "execution_count": 13,
   "metadata": {
    "collapsed": false
   },
   "outputs": [
    {
     "data": {
      "text/plain": []
     },
     "execution_count": 13,
     "metadata": {},
     "output_type": "execute_result"
    }
   ],
   "source": [
    "# (SONG)-[IN_ALBUM]-> (ALBUM)\n",
    "csv_path = 'file:' + os.getcwd() + '/data/MillionSongSubset/graph/rel_song_in_album.csv'\n",
    "\n",
    "tx = graph.cypher.begin()\n",
    "\n",
    "st = \"USING PERIODIC COMMIT 1000 \"\n",
    "st += 'LOAD CSV WITH HEADERS FROM \"' + csv_path + '\" AS line '\n",
    "st += 'MATCH (a:ALBUM {name:lower(line.album)}) '\n",
    "st += 'MATCH (s:SONG {id:line.songID}) '\n",
    "st += 'MERGE (s)-[:IN_ALBUM]->(a);'\n",
    "\n",
    "tx.append(st)\n",
    "tx.commit()"
   ]
  },
  {
   "cell_type": "code",
   "execution_count": null,
   "metadata": {
    "collapsed": true
   },
   "outputs": [],
   "source": [
    "USING PERIODIC COMMIT 1000\n",
    "LOAD CSV WITH HEADERS FROM \n",
    "\"file:/data/asoto/projectW205/data/MillionSongSubset/graph/rel_similar_artists.csv\" AS line\n",
    "MATCH (from:ARTIST {id:line.from})\n",
    "MATCH (to:ARTIST {id:line.to})\n",
    "MERGE (from)-[:SIMILAR_TO]->(to)"
   ]
  },
  {
   "cell_type": "code",
   "execution_count": 50,
   "metadata": {
    "collapsed": false
   },
   "outputs": [
    {
     "data": {
      "text/plain": [
       "'file:/data/asoto/projectW205/data/MillionSongSubset/graph/rel_similar_artists.csv '"
      ]
     },
     "execution_count": 50,
     "metadata": {},
     "output_type": "execute_result"
    }
   ],
   "source": [
    "'file:' + os.getcwd() + '/data/MillionSongSubset/graph/rel_similar_artists.csv '"
   ]
  },
  {
   "cell_type": "code",
   "execution_count": null,
   "metadata": {
    "collapsed": true
   },
   "outputs": [],
   "source": []
  }
 ],
 "metadata": {
  "kernelspec": {
   "display_name": "Python 2",
   "language": "python",
   "name": "python2"
  },
  "language_info": {
   "codemirror_mode": {
    "name": "ipython",
    "version": 2
   },
   "file_extension": ".py",
   "mimetype": "text/x-python",
   "name": "python",
   "nbconvert_exporter": "python",
   "pygments_lexer": "ipython2",
   "version": "2.7.10"
  }
 },
 "nbformat": 4,
 "nbformat_minor": 0
}
